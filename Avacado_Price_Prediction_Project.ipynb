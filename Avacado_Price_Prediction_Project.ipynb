{
  "nbformat": 4,
  "nbformat_minor": 0,
  "metadata": {
    "colab": {
      "provenance": [],
      "collapsed_sections": []
    },
    "kernelspec": {
      "name": "python3",
      "display_name": "Python 3"
    },
    "language_info": {
      "name": "python"
    }
  },
  "cells": [
    {
      "cell_type": "markdown",
      "source": [
        "# 1 Introduction"
      ],
      "metadata": {
        "id": "v95eYd2hDpFB"
      }
    },
    {
      "cell_type": "markdown",
      "source": [
        "#Company Introduction\n",
        "\n",
        "1.   Their avocados are sourced from over 1000 growers owning over 65,000 acres across California, Mexico, Chile, and Peru.\n",
        "2.   With generations of experience growing, packing, and shipping avocados, they have a deep understanding of the avocado industry.\n",
        "3. Their aim is to source quality fruit that’s sustainably grown and handled in the most efficient, shortest supply route possible.\n",
        "4. They want to increase their supply throughout the United States and need to make sure that they are selling their products at the best possible price.\n",
        "\n",
        "#Current Scenario\n",
        "\n",
        "1.   Avocado prices have rocketed in recent years by up to 129%, with the average national price in the US of a single Hass avocado reaching $2.10 in 2019, almost doubling in just one year.\n",
        "2.   Due to this uncertainty in the prices, the company is not able to sell their produce at the optimal price.\n",
        "\n"
      ],
      "metadata": {
        "id": "5GLdACfxd-Di"
      }
    },
    {
      "cell_type": "markdown",
      "source": [
        "1. Determine what is the problem: In this case we want to have accurate forecast of Avocado prices.\n",
        "2. Gathering Information: Understand what was the process that was used to gather the information and if the information is sufficient to have effective predictive models.\n",
        "3. Implementing Exploratory Analysis: Determine if there are any sort of patterns in our data before going into building the models.\n",
        "4. Choosing predictive models: This is the phase where we decide which model is the most appropriate to make our forecasting most effective.\n",
        "5. Testing our model: Analyze if our model is effective enough to make effective predictions."
      ],
      "metadata": {
        "id": "7O0KPVTZvIZ4"
      }
    },
    {
      "cell_type": "code",
      "execution_count": null,
      "metadata": {
        "id": "2GZrm_HNdL_L",
        "colab": {
          "base_uri": "https://localhost:8080/"
        },
        "outputId": "fcd1d3b1-7dbd-4bfd-e9c4-9ddf13ab765f"
      },
      "outputs": [
        {
          "metadata": {
            "tags": null
          },
          "name": "stdout",
          "output_type": "stream",
          "text": [
            "Archive:  /content/Avocado-Price-Prediction.zip\n",
            "replace avocado_test.csv? [y]es, [n]o, [A]ll, [N]one, [r]ename: "
          ]
        }
      ],
      "source": [
        "!unzip /content/Avocado-Price-Prediction.zip"
      ]
    },
    {
      "cell_type": "markdown",
      "source": [
        "#2 Problem Statement\n",
        "\n",
        "The current process suffers from the following problems:\n",
        "\n",
        "The price of avocado is dependent on global demands and seasonal production. Due to these reasons, it is quite difficult to know for certain the price in the future"
      ],
      "metadata": {
        "id": "jOROrHJzDur1"
      }
    },
    {
      "cell_type": "markdown",
      "source": [
        "\n",
        "\n",
        "#3  Installing & Importing Libraries"
      ],
      "metadata": {
        "id": "UslnqFKBDbtg"
      }
    },
    {
      "cell_type": "code",
      "source": [
        "# Import all necessary librararies & packages\n",
        "import numpy as np\n",
        "import pandas as pd\n",
        "\n",
        "#import pandas_profiling\n",
        "#from pandas_profiling import ProfileReport \n",
        "\n",
        "import seaborn as sns\n",
        "import matplotlib.pyplot as plt\n",
        "%matplotlib inline\n",
        "\n",
        "import warnings\n",
        "warnings.filterwarnings('ignore')\n",
        "\n",
        "pd.options.mode.chained_assignment = None\n",
        "\n",
        "\n"
      ],
      "metadata": {
        "id": "278uNX1gfzNi"
      },
      "execution_count": null,
      "outputs": []
    },
    {
      "cell_type": "markdown",
      "source": [
        "#4. Data Acquisition & Description"
      ],
      "metadata": {
        "id": "9uqwcZu9EJuU"
      }
    },
    {
      "cell_type": "code",
      "source": [
        "APD_Train_df = pd.read_csv(\"/content/avocado_train.csv\") # Import Train Data in DF\n",
        "APD_Test_df = pd.read_csv(\"/content/avocado_test.csv\") # Import Test Data in DF"
      ],
      "metadata": {
        "id": "IxW_sAtBgKMK"
      },
      "execution_count": null,
      "outputs": []
    },
    {
      "cell_type": "code",
      "source": [
        "APD_Train_df.head()"
      ],
      "metadata": {
        "id": "hyehrs-bE9P6",
        "colab": {
          "base_uri": "https://localhost:8080/",
          "height": 250
        },
        "outputId": "99822d12-848d-4046-e020-a8e1f7d974c8"
      },
      "execution_count": null,
      "outputs": [
        {
          "output_type": "execute_result",
          "data": {
            "text/plain": [
              "      Id        Date  AveragePrice  Total Volume       4046      4225    4770  \\\n",
              "0  14761  2017-08-20          1.86       2584.08      61.21    143.82    0.00   \n",
              "1   6843  2017-11-12          1.14     100811.00    3181.00  43510.00   86.00   \n",
              "2   7306  2017-02-12          0.95     430096.94  242212.80  81697.52  264.25   \n",
              "3  12329  2016-05-22          1.71       5433.16     437.48   2422.71  544.63   \n",
              "4  12036  2016-01-10          1.66       5614.09    2123.47   2121.26    0.00   \n",
              "\n",
              "   Total Bags  Small Bags  Large Bags  XLarge Bags          type  year  \\\n",
              "0     2379.05     2379.05        0.00          0.0       organic  2017   \n",
              "1    54034.00    11788.00    42246.00          0.0  conventional  2017   \n",
              "2   105922.37    48557.37    57365.00          0.0  conventional  2017   \n",
              "3     2028.34     2021.67        6.67          0.0       organic  2016   \n",
              "4     1369.36      392.02      977.34          0.0       organic  2016   \n",
              "\n",
              "       region  \n",
              "0      Albany  \n",
              "1  Louisville  \n",
              "2     Orlando  \n",
              "3   Charlotte  \n",
              "4     Atlanta  "
            ],
            "text/html": [
              "\n",
              "  <div id=\"df-ae015e92-1ebb-4ffb-8929-d97cc46763e8\">\n",
              "    <div class=\"colab-df-container\">\n",
              "      <div>\n",
              "<style scoped>\n",
              "    .dataframe tbody tr th:only-of-type {\n",
              "        vertical-align: middle;\n",
              "    }\n",
              "\n",
              "    .dataframe tbody tr th {\n",
              "        vertical-align: top;\n",
              "    }\n",
              "\n",
              "    .dataframe thead th {\n",
              "        text-align: right;\n",
              "    }\n",
              "</style>\n",
              "<table border=\"1\" class=\"dataframe\">\n",
              "  <thead>\n",
              "    <tr style=\"text-align: right;\">\n",
              "      <th></th>\n",
              "      <th>Id</th>\n",
              "      <th>Date</th>\n",
              "      <th>AveragePrice</th>\n",
              "      <th>Total Volume</th>\n",
              "      <th>4046</th>\n",
              "      <th>4225</th>\n",
              "      <th>4770</th>\n",
              "      <th>Total Bags</th>\n",
              "      <th>Small Bags</th>\n",
              "      <th>Large Bags</th>\n",
              "      <th>XLarge Bags</th>\n",
              "      <th>type</th>\n",
              "      <th>year</th>\n",
              "      <th>region</th>\n",
              "    </tr>\n",
              "  </thead>\n",
              "  <tbody>\n",
              "    <tr>\n",
              "      <th>0</th>\n",
              "      <td>14761</td>\n",
              "      <td>2017-08-20</td>\n",
              "      <td>1.86</td>\n",
              "      <td>2584.08</td>\n",
              "      <td>61.21</td>\n",
              "      <td>143.82</td>\n",
              "      <td>0.00</td>\n",
              "      <td>2379.05</td>\n",
              "      <td>2379.05</td>\n",
              "      <td>0.00</td>\n",
              "      <td>0.0</td>\n",
              "      <td>organic</td>\n",
              "      <td>2017</td>\n",
              "      <td>Albany</td>\n",
              "    </tr>\n",
              "    <tr>\n",
              "      <th>1</th>\n",
              "      <td>6843</td>\n",
              "      <td>2017-11-12</td>\n",
              "      <td>1.14</td>\n",
              "      <td>100811.00</td>\n",
              "      <td>3181.00</td>\n",
              "      <td>43510.00</td>\n",
              "      <td>86.00</td>\n",
              "      <td>54034.00</td>\n",
              "      <td>11788.00</td>\n",
              "      <td>42246.00</td>\n",
              "      <td>0.0</td>\n",
              "      <td>conventional</td>\n",
              "      <td>2017</td>\n",
              "      <td>Louisville</td>\n",
              "    </tr>\n",
              "    <tr>\n",
              "      <th>2</th>\n",
              "      <td>7306</td>\n",
              "      <td>2017-02-12</td>\n",
              "      <td>0.95</td>\n",
              "      <td>430096.94</td>\n",
              "      <td>242212.80</td>\n",
              "      <td>81697.52</td>\n",
              "      <td>264.25</td>\n",
              "      <td>105922.37</td>\n",
              "      <td>48557.37</td>\n",
              "      <td>57365.00</td>\n",
              "      <td>0.0</td>\n",
              "      <td>conventional</td>\n",
              "      <td>2017</td>\n",
              "      <td>Orlando</td>\n",
              "    </tr>\n",
              "    <tr>\n",
              "      <th>3</th>\n",
              "      <td>12329</td>\n",
              "      <td>2016-05-22</td>\n",
              "      <td>1.71</td>\n",
              "      <td>5433.16</td>\n",
              "      <td>437.48</td>\n",
              "      <td>2422.71</td>\n",
              "      <td>544.63</td>\n",
              "      <td>2028.34</td>\n",
              "      <td>2021.67</td>\n",
              "      <td>6.67</td>\n",
              "      <td>0.0</td>\n",
              "      <td>organic</td>\n",
              "      <td>2016</td>\n",
              "      <td>Charlotte</td>\n",
              "    </tr>\n",
              "    <tr>\n",
              "      <th>4</th>\n",
              "      <td>12036</td>\n",
              "      <td>2016-01-10</td>\n",
              "      <td>1.66</td>\n",
              "      <td>5614.09</td>\n",
              "      <td>2123.47</td>\n",
              "      <td>2121.26</td>\n",
              "      <td>0.00</td>\n",
              "      <td>1369.36</td>\n",
              "      <td>392.02</td>\n",
              "      <td>977.34</td>\n",
              "      <td>0.0</td>\n",
              "      <td>organic</td>\n",
              "      <td>2016</td>\n",
              "      <td>Atlanta</td>\n",
              "    </tr>\n",
              "  </tbody>\n",
              "</table>\n",
              "</div>\n",
              "      <button class=\"colab-df-convert\" onclick=\"convertToInteractive('df-ae015e92-1ebb-4ffb-8929-d97cc46763e8')\"\n",
              "              title=\"Convert this dataframe to an interactive table.\"\n",
              "              style=\"display:none;\">\n",
              "        \n",
              "  <svg xmlns=\"http://www.w3.org/2000/svg\" height=\"24px\"viewBox=\"0 0 24 24\"\n",
              "       width=\"24px\">\n",
              "    <path d=\"M0 0h24v24H0V0z\" fill=\"none\"/>\n",
              "    <path d=\"M18.56 5.44l.94 2.06.94-2.06 2.06-.94-2.06-.94-.94-2.06-.94 2.06-2.06.94zm-11 1L8.5 8.5l.94-2.06 2.06-.94-2.06-.94L8.5 2.5l-.94 2.06-2.06.94zm10 10l.94 2.06.94-2.06 2.06-.94-2.06-.94-.94-2.06-.94 2.06-2.06.94z\"/><path d=\"M17.41 7.96l-1.37-1.37c-.4-.4-.92-.59-1.43-.59-.52 0-1.04.2-1.43.59L10.3 9.45l-7.72 7.72c-.78.78-.78 2.05 0 2.83L4 21.41c.39.39.9.59 1.41.59.51 0 1.02-.2 1.41-.59l7.78-7.78 2.81-2.81c.8-.78.8-2.07 0-2.86zM5.41 20L4 18.59l7.72-7.72 1.47 1.35L5.41 20z\"/>\n",
              "  </svg>\n",
              "      </button>\n",
              "      \n",
              "  <style>\n",
              "    .colab-df-container {\n",
              "      display:flex;\n",
              "      flex-wrap:wrap;\n",
              "      gap: 12px;\n",
              "    }\n",
              "\n",
              "    .colab-df-convert {\n",
              "      background-color: #E8F0FE;\n",
              "      border: none;\n",
              "      border-radius: 50%;\n",
              "      cursor: pointer;\n",
              "      display: none;\n",
              "      fill: #1967D2;\n",
              "      height: 32px;\n",
              "      padding: 0 0 0 0;\n",
              "      width: 32px;\n",
              "    }\n",
              "\n",
              "    .colab-df-convert:hover {\n",
              "      background-color: #E2EBFA;\n",
              "      box-shadow: 0px 1px 2px rgba(60, 64, 67, 0.3), 0px 1px 3px 1px rgba(60, 64, 67, 0.15);\n",
              "      fill: #174EA6;\n",
              "    }\n",
              "\n",
              "    [theme=dark] .colab-df-convert {\n",
              "      background-color: #3B4455;\n",
              "      fill: #D2E3FC;\n",
              "    }\n",
              "\n",
              "    [theme=dark] .colab-df-convert:hover {\n",
              "      background-color: #434B5C;\n",
              "      box-shadow: 0px 1px 3px 1px rgba(0, 0, 0, 0.15);\n",
              "      filter: drop-shadow(0px 1px 2px rgba(0, 0, 0, 0.3));\n",
              "      fill: #FFFFFF;\n",
              "    }\n",
              "  </style>\n",
              "\n",
              "      <script>\n",
              "        const buttonEl =\n",
              "          document.querySelector('#df-ae015e92-1ebb-4ffb-8929-d97cc46763e8 button.colab-df-convert');\n",
              "        buttonEl.style.display =\n",
              "          google.colab.kernel.accessAllowed ? 'block' : 'none';\n",
              "\n",
              "        async function convertToInteractive(key) {\n",
              "          const element = document.querySelector('#df-ae015e92-1ebb-4ffb-8929-d97cc46763e8');\n",
              "          const dataTable =\n",
              "            await google.colab.kernel.invokeFunction('convertToInteractive',\n",
              "                                                     [key], {});\n",
              "          if (!dataTable) return;\n",
              "\n",
              "          const docLinkHtml = 'Like what you see? Visit the ' +\n",
              "            '<a target=\"_blank\" href=https://colab.research.google.com/notebooks/data_table.ipynb>data table notebook</a>'\n",
              "            + ' to learn more about interactive tables.';\n",
              "          element.innerHTML = '';\n",
              "          dataTable['output_type'] = 'display_data';\n",
              "          await google.colab.output.renderOutput(dataTable, element);\n",
              "          const docLink = document.createElement('div');\n",
              "          docLink.innerHTML = docLinkHtml;\n",
              "          element.appendChild(docLink);\n",
              "        }\n",
              "      </script>\n",
              "    </div>\n",
              "  </div>\n",
              "  "
            ]
          },
          "metadata": {},
          "execution_count": 109
        }
      ]
    },
    {
      "cell_type": "code",
      "source": [
        "APD_Test_df.head()"
      ],
      "metadata": {
        "id": "cCb4WfKIFABx",
        "colab": {
          "base_uri": "https://localhost:8080/",
          "height": 250
        },
        "outputId": "51179cb1-57c7-41a3-8285-c821c986c75f"
      },
      "execution_count": null,
      "outputs": [
        {
          "output_type": "execute_result",
          "data": {
            "text/plain": [
              "      Id        Date  Total Volume       4046        4225       4770  \\\n",
              "0  11137  2015-05-03      12425.42     426.78     6174.20     548.21   \n",
              "1  16503  2017-10-08      11837.20    2749.91      124.43       0.00   \n",
              "2   6438  2017-07-02    4250394.01  740503.01  1423924.97  356791.68   \n",
              "3   8247  2017-05-14      74951.66    1032.62    43170.45      42.00   \n",
              "4  10481  2015-12-13       4594.71     592.64     2602.48       0.00   \n",
              "\n",
              "   Total Bags  Small Bags  Large Bags  XLarge Bags          type  year  \\\n",
              "0     5276.23     2313.33     2962.90         0.00       organic  2015   \n",
              "1     8962.86     8921.88       40.98         0.00       organic  2017   \n",
              "2  1729174.35  1157601.31   485376.01     86197.03  conventional  2017   \n",
              "3    30706.59    28525.65     2180.94         0.00  conventional  2017   \n",
              "4     1399.59      696.67      702.92         0.00       organic  2015   \n",
              "\n",
              "            region  \n",
              "0  RichmondNorfolk  \n",
              "1    PhoenixTucson  \n",
              "2       GreatLakes  \n",
              "3         Syracuse  \n",
              "4        Nashville  "
            ],
            "text/html": [
              "\n",
              "  <div id=\"df-0fdf9b54-5cea-41bd-8b73-7889304b787c\">\n",
              "    <div class=\"colab-df-container\">\n",
              "      <div>\n",
              "<style scoped>\n",
              "    .dataframe tbody tr th:only-of-type {\n",
              "        vertical-align: middle;\n",
              "    }\n",
              "\n",
              "    .dataframe tbody tr th {\n",
              "        vertical-align: top;\n",
              "    }\n",
              "\n",
              "    .dataframe thead th {\n",
              "        text-align: right;\n",
              "    }\n",
              "</style>\n",
              "<table border=\"1\" class=\"dataframe\">\n",
              "  <thead>\n",
              "    <tr style=\"text-align: right;\">\n",
              "      <th></th>\n",
              "      <th>Id</th>\n",
              "      <th>Date</th>\n",
              "      <th>Total Volume</th>\n",
              "      <th>4046</th>\n",
              "      <th>4225</th>\n",
              "      <th>4770</th>\n",
              "      <th>Total Bags</th>\n",
              "      <th>Small Bags</th>\n",
              "      <th>Large Bags</th>\n",
              "      <th>XLarge Bags</th>\n",
              "      <th>type</th>\n",
              "      <th>year</th>\n",
              "      <th>region</th>\n",
              "    </tr>\n",
              "  </thead>\n",
              "  <tbody>\n",
              "    <tr>\n",
              "      <th>0</th>\n",
              "      <td>11137</td>\n",
              "      <td>2015-05-03</td>\n",
              "      <td>12425.42</td>\n",
              "      <td>426.78</td>\n",
              "      <td>6174.20</td>\n",
              "      <td>548.21</td>\n",
              "      <td>5276.23</td>\n",
              "      <td>2313.33</td>\n",
              "      <td>2962.90</td>\n",
              "      <td>0.00</td>\n",
              "      <td>organic</td>\n",
              "      <td>2015</td>\n",
              "      <td>RichmondNorfolk</td>\n",
              "    </tr>\n",
              "    <tr>\n",
              "      <th>1</th>\n",
              "      <td>16503</td>\n",
              "      <td>2017-10-08</td>\n",
              "      <td>11837.20</td>\n",
              "      <td>2749.91</td>\n",
              "      <td>124.43</td>\n",
              "      <td>0.00</td>\n",
              "      <td>8962.86</td>\n",
              "      <td>8921.88</td>\n",
              "      <td>40.98</td>\n",
              "      <td>0.00</td>\n",
              "      <td>organic</td>\n",
              "      <td>2017</td>\n",
              "      <td>PhoenixTucson</td>\n",
              "    </tr>\n",
              "    <tr>\n",
              "      <th>2</th>\n",
              "      <td>6438</td>\n",
              "      <td>2017-07-02</td>\n",
              "      <td>4250394.01</td>\n",
              "      <td>740503.01</td>\n",
              "      <td>1423924.97</td>\n",
              "      <td>356791.68</td>\n",
              "      <td>1729174.35</td>\n",
              "      <td>1157601.31</td>\n",
              "      <td>485376.01</td>\n",
              "      <td>86197.03</td>\n",
              "      <td>conventional</td>\n",
              "      <td>2017</td>\n",
              "      <td>GreatLakes</td>\n",
              "    </tr>\n",
              "    <tr>\n",
              "      <th>3</th>\n",
              "      <td>8247</td>\n",
              "      <td>2017-05-14</td>\n",
              "      <td>74951.66</td>\n",
              "      <td>1032.62</td>\n",
              "      <td>43170.45</td>\n",
              "      <td>42.00</td>\n",
              "      <td>30706.59</td>\n",
              "      <td>28525.65</td>\n",
              "      <td>2180.94</td>\n",
              "      <td>0.00</td>\n",
              "      <td>conventional</td>\n",
              "      <td>2017</td>\n",
              "      <td>Syracuse</td>\n",
              "    </tr>\n",
              "    <tr>\n",
              "      <th>4</th>\n",
              "      <td>10481</td>\n",
              "      <td>2015-12-13</td>\n",
              "      <td>4594.71</td>\n",
              "      <td>592.64</td>\n",
              "      <td>2602.48</td>\n",
              "      <td>0.00</td>\n",
              "      <td>1399.59</td>\n",
              "      <td>696.67</td>\n",
              "      <td>702.92</td>\n",
              "      <td>0.00</td>\n",
              "      <td>organic</td>\n",
              "      <td>2015</td>\n",
              "      <td>Nashville</td>\n",
              "    </tr>\n",
              "  </tbody>\n",
              "</table>\n",
              "</div>\n",
              "      <button class=\"colab-df-convert\" onclick=\"convertToInteractive('df-0fdf9b54-5cea-41bd-8b73-7889304b787c')\"\n",
              "              title=\"Convert this dataframe to an interactive table.\"\n",
              "              style=\"display:none;\">\n",
              "        \n",
              "  <svg xmlns=\"http://www.w3.org/2000/svg\" height=\"24px\"viewBox=\"0 0 24 24\"\n",
              "       width=\"24px\">\n",
              "    <path d=\"M0 0h24v24H0V0z\" fill=\"none\"/>\n",
              "    <path d=\"M18.56 5.44l.94 2.06.94-2.06 2.06-.94-2.06-.94-.94-2.06-.94 2.06-2.06.94zm-11 1L8.5 8.5l.94-2.06 2.06-.94-2.06-.94L8.5 2.5l-.94 2.06-2.06.94zm10 10l.94 2.06.94-2.06 2.06-.94-2.06-.94-.94-2.06-.94 2.06-2.06.94z\"/><path d=\"M17.41 7.96l-1.37-1.37c-.4-.4-.92-.59-1.43-.59-.52 0-1.04.2-1.43.59L10.3 9.45l-7.72 7.72c-.78.78-.78 2.05 0 2.83L4 21.41c.39.39.9.59 1.41.59.51 0 1.02-.2 1.41-.59l7.78-7.78 2.81-2.81c.8-.78.8-2.07 0-2.86zM5.41 20L4 18.59l7.72-7.72 1.47 1.35L5.41 20z\"/>\n",
              "  </svg>\n",
              "      </button>\n",
              "      \n",
              "  <style>\n",
              "    .colab-df-container {\n",
              "      display:flex;\n",
              "      flex-wrap:wrap;\n",
              "      gap: 12px;\n",
              "    }\n",
              "\n",
              "    .colab-df-convert {\n",
              "      background-color: #E8F0FE;\n",
              "      border: none;\n",
              "      border-radius: 50%;\n",
              "      cursor: pointer;\n",
              "      display: none;\n",
              "      fill: #1967D2;\n",
              "      height: 32px;\n",
              "      padding: 0 0 0 0;\n",
              "      width: 32px;\n",
              "    }\n",
              "\n",
              "    .colab-df-convert:hover {\n",
              "      background-color: #E2EBFA;\n",
              "      box-shadow: 0px 1px 2px rgba(60, 64, 67, 0.3), 0px 1px 3px 1px rgba(60, 64, 67, 0.15);\n",
              "      fill: #174EA6;\n",
              "    }\n",
              "\n",
              "    [theme=dark] .colab-df-convert {\n",
              "      background-color: #3B4455;\n",
              "      fill: #D2E3FC;\n",
              "    }\n",
              "\n",
              "    [theme=dark] .colab-df-convert:hover {\n",
              "      background-color: #434B5C;\n",
              "      box-shadow: 0px 1px 3px 1px rgba(0, 0, 0, 0.15);\n",
              "      filter: drop-shadow(0px 1px 2px rgba(0, 0, 0, 0.3));\n",
              "      fill: #FFFFFF;\n",
              "    }\n",
              "  </style>\n",
              "\n",
              "      <script>\n",
              "        const buttonEl =\n",
              "          document.querySelector('#df-0fdf9b54-5cea-41bd-8b73-7889304b787c button.colab-df-convert');\n",
              "        buttonEl.style.display =\n",
              "          google.colab.kernel.accessAllowed ? 'block' : 'none';\n",
              "\n",
              "        async function convertToInteractive(key) {\n",
              "          const element = document.querySelector('#df-0fdf9b54-5cea-41bd-8b73-7889304b787c');\n",
              "          const dataTable =\n",
              "            await google.colab.kernel.invokeFunction('convertToInteractive',\n",
              "                                                     [key], {});\n",
              "          if (!dataTable) return;\n",
              "\n",
              "          const docLinkHtml = 'Like what you see? Visit the ' +\n",
              "            '<a target=\"_blank\" href=https://colab.research.google.com/notebooks/data_table.ipynb>data table notebook</a>'\n",
              "            + ' to learn more about interactive tables.';\n",
              "          element.innerHTML = '';\n",
              "          dataTable['output_type'] = 'display_data';\n",
              "          await google.colab.output.renderOutput(dataTable, element);\n",
              "          const docLink = document.createElement('div');\n",
              "          docLink.innerHTML = docLinkHtml;\n",
              "          element.appendChild(docLink);\n",
              "        }\n",
              "      </script>\n",
              "    </div>\n",
              "  </div>\n",
              "  "
            ]
          },
          "metadata": {},
          "execution_count": 110
        }
      ]
    },
    {
      "cell_type": "code",
      "source": [
        "APD_Train_df.describe()"
      ],
      "metadata": {
        "id": "U-EPP6sLFtwq",
        "colab": {
          "base_uri": "https://localhost:8080/",
          "height": 381
        },
        "outputId": "f5640a62-8a1d-4a67-d095-6f58a1455b99"
      },
      "execution_count": null,
      "outputs": [
        {
          "output_type": "execute_result",
          "data": {
            "text/plain": [
              "                 Id  AveragePrice  Total Volume          4046          4225  \\\n",
              "count  14599.000000  14599.000000  1.459900e+04  1.459900e+04  1.459900e+04   \n",
              "mean    9116.120899      1.409168  8.136614e+05  2.787616e+05  2.835157e+05   \n",
              "std     5279.989902      0.404518  3.292013e+06  1.206792e+06  1.150215e+06   \n",
              "min        2.000000      0.440000  3.855500e+02  0.000000e+00  0.000000e+00   \n",
              "25%     4538.500000      1.100000  1.080823e+04  8.493600e+02  3.018255e+03   \n",
              "50%     9125.000000      1.370000  1.070186e+05  8.425390e+03  2.890747e+04   \n",
              "75%    13698.500000      1.670000  4.261702e+05  1.087822e+05  1.451605e+05   \n",
              "max    18249.000000      3.250000  6.250565e+07  2.162018e+07  2.047057e+07   \n",
              "\n",
              "               4770    Total Bags    Small Bags    Large Bags    XLarge Bags  \\\n",
              "count  1.459900e+04  1.459900e+04  1.459900e+04  1.459900e+04   14599.000000   \n",
              "mean   2.175564e+04  2.296264e+05  1.746354e+05  5.199545e+04    2995.622236   \n",
              "std    1.025608e+05  9.429775e+05  7.139212e+05  2.343441e+05   17313.445157   \n",
              "min    0.000000e+00  0.000000e+00  0.000000e+00  0.000000e+00       0.000000   \n",
              "25%    0.000000e+00  5.040900e+03  2.828890e+03  1.314550e+02       0.000000   \n",
              "50%    1.807200e+02  3.960296e+04  2.631176e+04  2.621750e+03       0.000000   \n",
              "75%    6.136665e+03  1.096453e+05  8.300046e+04  2.151112e+04     127.940000   \n",
              "max    2.546439e+06  1.937313e+07  1.338459e+07  5.719097e+06  551693.650000   \n",
              "\n",
              "               year  \n",
              "count  14599.000000  \n",
              "mean    2016.146174  \n",
              "std        0.937565  \n",
              "min     2015.000000  \n",
              "25%     2015.000000  \n",
              "50%     2016.000000  \n",
              "75%     2017.000000  \n",
              "max     2018.000000  "
            ],
            "text/html": [
              "\n",
              "  <div id=\"df-32da1966-6a66-4fde-ad14-e8c915685645\">\n",
              "    <div class=\"colab-df-container\">\n",
              "      <div>\n",
              "<style scoped>\n",
              "    .dataframe tbody tr th:only-of-type {\n",
              "        vertical-align: middle;\n",
              "    }\n",
              "\n",
              "    .dataframe tbody tr th {\n",
              "        vertical-align: top;\n",
              "    }\n",
              "\n",
              "    .dataframe thead th {\n",
              "        text-align: right;\n",
              "    }\n",
              "</style>\n",
              "<table border=\"1\" class=\"dataframe\">\n",
              "  <thead>\n",
              "    <tr style=\"text-align: right;\">\n",
              "      <th></th>\n",
              "      <th>Id</th>\n",
              "      <th>AveragePrice</th>\n",
              "      <th>Total Volume</th>\n",
              "      <th>4046</th>\n",
              "      <th>4225</th>\n",
              "      <th>4770</th>\n",
              "      <th>Total Bags</th>\n",
              "      <th>Small Bags</th>\n",
              "      <th>Large Bags</th>\n",
              "      <th>XLarge Bags</th>\n",
              "      <th>year</th>\n",
              "    </tr>\n",
              "  </thead>\n",
              "  <tbody>\n",
              "    <tr>\n",
              "      <th>count</th>\n",
              "      <td>14599.000000</td>\n",
              "      <td>14599.000000</td>\n",
              "      <td>1.459900e+04</td>\n",
              "      <td>1.459900e+04</td>\n",
              "      <td>1.459900e+04</td>\n",
              "      <td>1.459900e+04</td>\n",
              "      <td>1.459900e+04</td>\n",
              "      <td>1.459900e+04</td>\n",
              "      <td>1.459900e+04</td>\n",
              "      <td>14599.000000</td>\n",
              "      <td>14599.000000</td>\n",
              "    </tr>\n",
              "    <tr>\n",
              "      <th>mean</th>\n",
              "      <td>9116.120899</td>\n",
              "      <td>1.409168</td>\n",
              "      <td>8.136614e+05</td>\n",
              "      <td>2.787616e+05</td>\n",
              "      <td>2.835157e+05</td>\n",
              "      <td>2.175564e+04</td>\n",
              "      <td>2.296264e+05</td>\n",
              "      <td>1.746354e+05</td>\n",
              "      <td>5.199545e+04</td>\n",
              "      <td>2995.622236</td>\n",
              "      <td>2016.146174</td>\n",
              "    </tr>\n",
              "    <tr>\n",
              "      <th>std</th>\n",
              "      <td>5279.989902</td>\n",
              "      <td>0.404518</td>\n",
              "      <td>3.292013e+06</td>\n",
              "      <td>1.206792e+06</td>\n",
              "      <td>1.150215e+06</td>\n",
              "      <td>1.025608e+05</td>\n",
              "      <td>9.429775e+05</td>\n",
              "      <td>7.139212e+05</td>\n",
              "      <td>2.343441e+05</td>\n",
              "      <td>17313.445157</td>\n",
              "      <td>0.937565</td>\n",
              "    </tr>\n",
              "    <tr>\n",
              "      <th>min</th>\n",
              "      <td>2.000000</td>\n",
              "      <td>0.440000</td>\n",
              "      <td>3.855500e+02</td>\n",
              "      <td>0.000000e+00</td>\n",
              "      <td>0.000000e+00</td>\n",
              "      <td>0.000000e+00</td>\n",
              "      <td>0.000000e+00</td>\n",
              "      <td>0.000000e+00</td>\n",
              "      <td>0.000000e+00</td>\n",
              "      <td>0.000000</td>\n",
              "      <td>2015.000000</td>\n",
              "    </tr>\n",
              "    <tr>\n",
              "      <th>25%</th>\n",
              "      <td>4538.500000</td>\n",
              "      <td>1.100000</td>\n",
              "      <td>1.080823e+04</td>\n",
              "      <td>8.493600e+02</td>\n",
              "      <td>3.018255e+03</td>\n",
              "      <td>0.000000e+00</td>\n",
              "      <td>5.040900e+03</td>\n",
              "      <td>2.828890e+03</td>\n",
              "      <td>1.314550e+02</td>\n",
              "      <td>0.000000</td>\n",
              "      <td>2015.000000</td>\n",
              "    </tr>\n",
              "    <tr>\n",
              "      <th>50%</th>\n",
              "      <td>9125.000000</td>\n",
              "      <td>1.370000</td>\n",
              "      <td>1.070186e+05</td>\n",
              "      <td>8.425390e+03</td>\n",
              "      <td>2.890747e+04</td>\n",
              "      <td>1.807200e+02</td>\n",
              "      <td>3.960296e+04</td>\n",
              "      <td>2.631176e+04</td>\n",
              "      <td>2.621750e+03</td>\n",
              "      <td>0.000000</td>\n",
              "      <td>2016.000000</td>\n",
              "    </tr>\n",
              "    <tr>\n",
              "      <th>75%</th>\n",
              "      <td>13698.500000</td>\n",
              "      <td>1.670000</td>\n",
              "      <td>4.261702e+05</td>\n",
              "      <td>1.087822e+05</td>\n",
              "      <td>1.451605e+05</td>\n",
              "      <td>6.136665e+03</td>\n",
              "      <td>1.096453e+05</td>\n",
              "      <td>8.300046e+04</td>\n",
              "      <td>2.151112e+04</td>\n",
              "      <td>127.940000</td>\n",
              "      <td>2017.000000</td>\n",
              "    </tr>\n",
              "    <tr>\n",
              "      <th>max</th>\n",
              "      <td>18249.000000</td>\n",
              "      <td>3.250000</td>\n",
              "      <td>6.250565e+07</td>\n",
              "      <td>2.162018e+07</td>\n",
              "      <td>2.047057e+07</td>\n",
              "      <td>2.546439e+06</td>\n",
              "      <td>1.937313e+07</td>\n",
              "      <td>1.338459e+07</td>\n",
              "      <td>5.719097e+06</td>\n",
              "      <td>551693.650000</td>\n",
              "      <td>2018.000000</td>\n",
              "    </tr>\n",
              "  </tbody>\n",
              "</table>\n",
              "</div>\n",
              "      <button class=\"colab-df-convert\" onclick=\"convertToInteractive('df-32da1966-6a66-4fde-ad14-e8c915685645')\"\n",
              "              title=\"Convert this dataframe to an interactive table.\"\n",
              "              style=\"display:none;\">\n",
              "        \n",
              "  <svg xmlns=\"http://www.w3.org/2000/svg\" height=\"24px\"viewBox=\"0 0 24 24\"\n",
              "       width=\"24px\">\n",
              "    <path d=\"M0 0h24v24H0V0z\" fill=\"none\"/>\n",
              "    <path d=\"M18.56 5.44l.94 2.06.94-2.06 2.06-.94-2.06-.94-.94-2.06-.94 2.06-2.06.94zm-11 1L8.5 8.5l.94-2.06 2.06-.94-2.06-.94L8.5 2.5l-.94 2.06-2.06.94zm10 10l.94 2.06.94-2.06 2.06-.94-2.06-.94-.94-2.06-.94 2.06-2.06.94z\"/><path d=\"M17.41 7.96l-1.37-1.37c-.4-.4-.92-.59-1.43-.59-.52 0-1.04.2-1.43.59L10.3 9.45l-7.72 7.72c-.78.78-.78 2.05 0 2.83L4 21.41c.39.39.9.59 1.41.59.51 0 1.02-.2 1.41-.59l7.78-7.78 2.81-2.81c.8-.78.8-2.07 0-2.86zM5.41 20L4 18.59l7.72-7.72 1.47 1.35L5.41 20z\"/>\n",
              "  </svg>\n",
              "      </button>\n",
              "      \n",
              "  <style>\n",
              "    .colab-df-container {\n",
              "      display:flex;\n",
              "      flex-wrap:wrap;\n",
              "      gap: 12px;\n",
              "    }\n",
              "\n",
              "    .colab-df-convert {\n",
              "      background-color: #E8F0FE;\n",
              "      border: none;\n",
              "      border-radius: 50%;\n",
              "      cursor: pointer;\n",
              "      display: none;\n",
              "      fill: #1967D2;\n",
              "      height: 32px;\n",
              "      padding: 0 0 0 0;\n",
              "      width: 32px;\n",
              "    }\n",
              "\n",
              "    .colab-df-convert:hover {\n",
              "      background-color: #E2EBFA;\n",
              "      box-shadow: 0px 1px 2px rgba(60, 64, 67, 0.3), 0px 1px 3px 1px rgba(60, 64, 67, 0.15);\n",
              "      fill: #174EA6;\n",
              "    }\n",
              "\n",
              "    [theme=dark] .colab-df-convert {\n",
              "      background-color: #3B4455;\n",
              "      fill: #D2E3FC;\n",
              "    }\n",
              "\n",
              "    [theme=dark] .colab-df-convert:hover {\n",
              "      background-color: #434B5C;\n",
              "      box-shadow: 0px 1px 3px 1px rgba(0, 0, 0, 0.15);\n",
              "      filter: drop-shadow(0px 1px 2px rgba(0, 0, 0, 0.3));\n",
              "      fill: #FFFFFF;\n",
              "    }\n",
              "  </style>\n",
              "\n",
              "      <script>\n",
              "        const buttonEl =\n",
              "          document.querySelector('#df-32da1966-6a66-4fde-ad14-e8c915685645 button.colab-df-convert');\n",
              "        buttonEl.style.display =\n",
              "          google.colab.kernel.accessAllowed ? 'block' : 'none';\n",
              "\n",
              "        async function convertToInteractive(key) {\n",
              "          const element = document.querySelector('#df-32da1966-6a66-4fde-ad14-e8c915685645');\n",
              "          const dataTable =\n",
              "            await google.colab.kernel.invokeFunction('convertToInteractive',\n",
              "                                                     [key], {});\n",
              "          if (!dataTable) return;\n",
              "\n",
              "          const docLinkHtml = 'Like what you see? Visit the ' +\n",
              "            '<a target=\"_blank\" href=https://colab.research.google.com/notebooks/data_table.ipynb>data table notebook</a>'\n",
              "            + ' to learn more about interactive tables.';\n",
              "          element.innerHTML = '';\n",
              "          dataTable['output_type'] = 'display_data';\n",
              "          await google.colab.output.renderOutput(dataTable, element);\n",
              "          const docLink = document.createElement('div');\n",
              "          docLink.innerHTML = docLinkHtml;\n",
              "          element.appendChild(docLink);\n",
              "        }\n",
              "      </script>\n",
              "    </div>\n",
              "  </div>\n",
              "  "
            ]
          },
          "metadata": {},
          "execution_count": 111
        }
      ]
    },
    {
      "cell_type": "code",
      "source": [
        "APD_Test_df.describe()"
      ],
      "metadata": {
        "id": "xuW-DDH1Fvxi",
        "colab": {
          "base_uri": "https://localhost:8080/",
          "height": 300
        },
        "outputId": "00636a5d-c052-4024-abc4-8443419f2a49"
      },
      "execution_count": null,
      "outputs": [
        {
          "output_type": "execute_result",
          "data": {
            "text/plain": [
              "                 Id  Total Volume          4046          4225          4770  \\\n",
              "count   3650.000000  3.650000e+03  3.650000e+03  3.650000e+03  3.650000e+03   \n",
              "mean    9160.513973  9.985644e+05  3.499917e+05  3.417070e+05  2.717581e+04   \n",
              "std     5221.228262  4.032615e+06  1.473789e+06  1.398324e+06  1.250919e+05   \n",
              "min        1.000000  8.456000e+01  0.000000e+00  0.000000e+00  0.000000e+00   \n",
              "25%     4680.250000  1.102260e+04  8.848725e+02  2.938222e+03  0.000000e+00   \n",
              "50%     9131.000000  1.100332e+05  9.726290e+03  2.960670e+04  2.063600e+02   \n",
              "75%    13653.750000  4.628083e+05  1.204247e+05  1.654237e+05  6.666458e+03   \n",
              "max    18248.000000  6.103446e+07  2.274362e+07  2.032816e+07  1.800066e+06   \n",
              "\n",
              "         Total Bags    Small Bags    Large Bags    XLarge Bags         year  \n",
              "count  3.650000e+03  3.650000e+03  3.650000e+03    3650.000000  3650.000000  \n",
              "mean   2.796875e+05  2.124299e+05  6.370799e+04    3549.613236  2016.154795  \n",
              "std    1.142301e+06  8.626779e+05  2.789935e+05   19131.611332     0.949469  \n",
              "min    0.000000e+00  0.000000e+00  0.000000e+00       0.000000  2015.000000  \n",
              "25%    5.284002e+03  2.942858e+03  1.088600e+02       0.000000  2015.000000  \n",
              "50%    4.000460e+04  2.666419e+04  2.831680e+03       0.000000  2016.000000  \n",
              "75%    1.193041e+05  8.490868e+04  2.463901e+04     147.990000  2017.000000  \n",
              "max    1.629830e+07  1.256716e+07  3.789723e+06  377661.060000  2018.000000  "
            ],
            "text/html": [
              "\n",
              "  <div id=\"df-56e9df7c-4fc6-433d-8174-fe97bdc5db01\">\n",
              "    <div class=\"colab-df-container\">\n",
              "      <div>\n",
              "<style scoped>\n",
              "    .dataframe tbody tr th:only-of-type {\n",
              "        vertical-align: middle;\n",
              "    }\n",
              "\n",
              "    .dataframe tbody tr th {\n",
              "        vertical-align: top;\n",
              "    }\n",
              "\n",
              "    .dataframe thead th {\n",
              "        text-align: right;\n",
              "    }\n",
              "</style>\n",
              "<table border=\"1\" class=\"dataframe\">\n",
              "  <thead>\n",
              "    <tr style=\"text-align: right;\">\n",
              "      <th></th>\n",
              "      <th>Id</th>\n",
              "      <th>Total Volume</th>\n",
              "      <th>4046</th>\n",
              "      <th>4225</th>\n",
              "      <th>4770</th>\n",
              "      <th>Total Bags</th>\n",
              "      <th>Small Bags</th>\n",
              "      <th>Large Bags</th>\n",
              "      <th>XLarge Bags</th>\n",
              "      <th>year</th>\n",
              "    </tr>\n",
              "  </thead>\n",
              "  <tbody>\n",
              "    <tr>\n",
              "      <th>count</th>\n",
              "      <td>3650.000000</td>\n",
              "      <td>3.650000e+03</td>\n",
              "      <td>3.650000e+03</td>\n",
              "      <td>3.650000e+03</td>\n",
              "      <td>3.650000e+03</td>\n",
              "      <td>3.650000e+03</td>\n",
              "      <td>3.650000e+03</td>\n",
              "      <td>3.650000e+03</td>\n",
              "      <td>3650.000000</td>\n",
              "      <td>3650.000000</td>\n",
              "    </tr>\n",
              "    <tr>\n",
              "      <th>mean</th>\n",
              "      <td>9160.513973</td>\n",
              "      <td>9.985644e+05</td>\n",
              "      <td>3.499917e+05</td>\n",
              "      <td>3.417070e+05</td>\n",
              "      <td>2.717581e+04</td>\n",
              "      <td>2.796875e+05</td>\n",
              "      <td>2.124299e+05</td>\n",
              "      <td>6.370799e+04</td>\n",
              "      <td>3549.613236</td>\n",
              "      <td>2016.154795</td>\n",
              "    </tr>\n",
              "    <tr>\n",
              "      <th>std</th>\n",
              "      <td>5221.228262</td>\n",
              "      <td>4.032615e+06</td>\n",
              "      <td>1.473789e+06</td>\n",
              "      <td>1.398324e+06</td>\n",
              "      <td>1.250919e+05</td>\n",
              "      <td>1.142301e+06</td>\n",
              "      <td>8.626779e+05</td>\n",
              "      <td>2.789935e+05</td>\n",
              "      <td>19131.611332</td>\n",
              "      <td>0.949469</td>\n",
              "    </tr>\n",
              "    <tr>\n",
              "      <th>min</th>\n",
              "      <td>1.000000</td>\n",
              "      <td>8.456000e+01</td>\n",
              "      <td>0.000000e+00</td>\n",
              "      <td>0.000000e+00</td>\n",
              "      <td>0.000000e+00</td>\n",
              "      <td>0.000000e+00</td>\n",
              "      <td>0.000000e+00</td>\n",
              "      <td>0.000000e+00</td>\n",
              "      <td>0.000000</td>\n",
              "      <td>2015.000000</td>\n",
              "    </tr>\n",
              "    <tr>\n",
              "      <th>25%</th>\n",
              "      <td>4680.250000</td>\n",
              "      <td>1.102260e+04</td>\n",
              "      <td>8.848725e+02</td>\n",
              "      <td>2.938222e+03</td>\n",
              "      <td>0.000000e+00</td>\n",
              "      <td>5.284002e+03</td>\n",
              "      <td>2.942858e+03</td>\n",
              "      <td>1.088600e+02</td>\n",
              "      <td>0.000000</td>\n",
              "      <td>2015.000000</td>\n",
              "    </tr>\n",
              "    <tr>\n",
              "      <th>50%</th>\n",
              "      <td>9131.000000</td>\n",
              "      <td>1.100332e+05</td>\n",
              "      <td>9.726290e+03</td>\n",
              "      <td>2.960670e+04</td>\n",
              "      <td>2.063600e+02</td>\n",
              "      <td>4.000460e+04</td>\n",
              "      <td>2.666419e+04</td>\n",
              "      <td>2.831680e+03</td>\n",
              "      <td>0.000000</td>\n",
              "      <td>2016.000000</td>\n",
              "    </tr>\n",
              "    <tr>\n",
              "      <th>75%</th>\n",
              "      <td>13653.750000</td>\n",
              "      <td>4.628083e+05</td>\n",
              "      <td>1.204247e+05</td>\n",
              "      <td>1.654237e+05</td>\n",
              "      <td>6.666458e+03</td>\n",
              "      <td>1.193041e+05</td>\n",
              "      <td>8.490868e+04</td>\n",
              "      <td>2.463901e+04</td>\n",
              "      <td>147.990000</td>\n",
              "      <td>2017.000000</td>\n",
              "    </tr>\n",
              "    <tr>\n",
              "      <th>max</th>\n",
              "      <td>18248.000000</td>\n",
              "      <td>6.103446e+07</td>\n",
              "      <td>2.274362e+07</td>\n",
              "      <td>2.032816e+07</td>\n",
              "      <td>1.800066e+06</td>\n",
              "      <td>1.629830e+07</td>\n",
              "      <td>1.256716e+07</td>\n",
              "      <td>3.789723e+06</td>\n",
              "      <td>377661.060000</td>\n",
              "      <td>2018.000000</td>\n",
              "    </tr>\n",
              "  </tbody>\n",
              "</table>\n",
              "</div>\n",
              "      <button class=\"colab-df-convert\" onclick=\"convertToInteractive('df-56e9df7c-4fc6-433d-8174-fe97bdc5db01')\"\n",
              "              title=\"Convert this dataframe to an interactive table.\"\n",
              "              style=\"display:none;\">\n",
              "        \n",
              "  <svg xmlns=\"http://www.w3.org/2000/svg\" height=\"24px\"viewBox=\"0 0 24 24\"\n",
              "       width=\"24px\">\n",
              "    <path d=\"M0 0h24v24H0V0z\" fill=\"none\"/>\n",
              "    <path d=\"M18.56 5.44l.94 2.06.94-2.06 2.06-.94-2.06-.94-.94-2.06-.94 2.06-2.06.94zm-11 1L8.5 8.5l.94-2.06 2.06-.94-2.06-.94L8.5 2.5l-.94 2.06-2.06.94zm10 10l.94 2.06.94-2.06 2.06-.94-2.06-.94-.94-2.06-.94 2.06-2.06.94z\"/><path d=\"M17.41 7.96l-1.37-1.37c-.4-.4-.92-.59-1.43-.59-.52 0-1.04.2-1.43.59L10.3 9.45l-7.72 7.72c-.78.78-.78 2.05 0 2.83L4 21.41c.39.39.9.59 1.41.59.51 0 1.02-.2 1.41-.59l7.78-7.78 2.81-2.81c.8-.78.8-2.07 0-2.86zM5.41 20L4 18.59l7.72-7.72 1.47 1.35L5.41 20z\"/>\n",
              "  </svg>\n",
              "      </button>\n",
              "      \n",
              "  <style>\n",
              "    .colab-df-container {\n",
              "      display:flex;\n",
              "      flex-wrap:wrap;\n",
              "      gap: 12px;\n",
              "    }\n",
              "\n",
              "    .colab-df-convert {\n",
              "      background-color: #E8F0FE;\n",
              "      border: none;\n",
              "      border-radius: 50%;\n",
              "      cursor: pointer;\n",
              "      display: none;\n",
              "      fill: #1967D2;\n",
              "      height: 32px;\n",
              "      padding: 0 0 0 0;\n",
              "      width: 32px;\n",
              "    }\n",
              "\n",
              "    .colab-df-convert:hover {\n",
              "      background-color: #E2EBFA;\n",
              "      box-shadow: 0px 1px 2px rgba(60, 64, 67, 0.3), 0px 1px 3px 1px rgba(60, 64, 67, 0.15);\n",
              "      fill: #174EA6;\n",
              "    }\n",
              "\n",
              "    [theme=dark] .colab-df-convert {\n",
              "      background-color: #3B4455;\n",
              "      fill: #D2E3FC;\n",
              "    }\n",
              "\n",
              "    [theme=dark] .colab-df-convert:hover {\n",
              "      background-color: #434B5C;\n",
              "      box-shadow: 0px 1px 3px 1px rgba(0, 0, 0, 0.15);\n",
              "      filter: drop-shadow(0px 1px 2px rgba(0, 0, 0, 0.3));\n",
              "      fill: #FFFFFF;\n",
              "    }\n",
              "  </style>\n",
              "\n",
              "      <script>\n",
              "        const buttonEl =\n",
              "          document.querySelector('#df-56e9df7c-4fc6-433d-8174-fe97bdc5db01 button.colab-df-convert');\n",
              "        buttonEl.style.display =\n",
              "          google.colab.kernel.accessAllowed ? 'block' : 'none';\n",
              "\n",
              "        async function convertToInteractive(key) {\n",
              "          const element = document.querySelector('#df-56e9df7c-4fc6-433d-8174-fe97bdc5db01');\n",
              "          const dataTable =\n",
              "            await google.colab.kernel.invokeFunction('convertToInteractive',\n",
              "                                                     [key], {});\n",
              "          if (!dataTable) return;\n",
              "\n",
              "          const docLinkHtml = 'Like what you see? Visit the ' +\n",
              "            '<a target=\"_blank\" href=https://colab.research.google.com/notebooks/data_table.ipynb>data table notebook</a>'\n",
              "            + ' to learn more about interactive tables.';\n",
              "          element.innerHTML = '';\n",
              "          dataTable['output_type'] = 'display_data';\n",
              "          await google.colab.output.renderOutput(dataTable, element);\n",
              "          const docLink = document.createElement('div');\n",
              "          docLink.innerHTML = docLinkHtml;\n",
              "          element.appendChild(docLink);\n",
              "        }\n",
              "      </script>\n",
              "    </div>\n",
              "  </div>\n",
              "  "
            ]
          },
          "metadata": {},
          "execution_count": 112
        }
      ]
    },
    {
      "cell_type": "markdown",
      "source": [
        "\n",
        "\n",
        "To predict the future price of avocados depending on some variables / features we have such as\n",
        "\n",
        "1. Date - The date of the observation\n",
        "2. AveragePrice - the average price of a single avocado\n",
        "3. Total Volume - Total number of avocados sold (small Hass + Large Hass + XLarge Hass + Total Bags)\n",
        "4. 4046 - Total number of avocados with PLU 4046 sold\n",
        "5. 4225 - Total number of avocados with PLU 4225 sold\n",
        "6. 4770 - Total number of avocados with PLU 4770 sold\n",
        "7. Total Bags = Small Bags + Large Bags + XLarge Bags\n",
        "8. type - conventional or organic\n",
        "9. year - the year\n",
        "10. region - the city or region of the observation\n",
        "\n"
      ],
      "metadata": {
        "id": "qG7xLpI9G0nG"
      }
    },
    {
      "cell_type": "markdown",
      "source": [
        "\n",
        "#5. Data Pre-Processing"
      ],
      "metadata": {
        "id": "ca395FzTGBfK"
      }
    },
    {
      "cell_type": "code",
      "source": [
        "APD_Train_df.info()"
      ],
      "metadata": {
        "id": "gzR0z55CgS1-",
        "colab": {
          "base_uri": "https://localhost:8080/"
        },
        "outputId": "19131198-b1b1-4dbf-9fad-e2f12b567e58"
      },
      "execution_count": null,
      "outputs": [
        {
          "output_type": "stream",
          "name": "stdout",
          "text": [
            "<class 'pandas.core.frame.DataFrame'>\n",
            "RangeIndex: 14599 entries, 0 to 14598\n",
            "Data columns (total 14 columns):\n",
            " #   Column        Non-Null Count  Dtype  \n",
            "---  ------        --------------  -----  \n",
            " 0   Id            14599 non-null  int64  \n",
            " 1   Date          14599 non-null  object \n",
            " 2   AveragePrice  14599 non-null  float64\n",
            " 3   Total Volume  14599 non-null  float64\n",
            " 4   4046          14599 non-null  float64\n",
            " 5   4225          14599 non-null  float64\n",
            " 6   4770          14599 non-null  float64\n",
            " 7   Total Bags    14599 non-null  float64\n",
            " 8   Small Bags    14599 non-null  float64\n",
            " 9   Large Bags    14599 non-null  float64\n",
            " 10  XLarge Bags   14599 non-null  float64\n",
            " 11  type          14599 non-null  object \n",
            " 12  year          14599 non-null  int64  \n",
            " 13  region        14599 non-null  object \n",
            "dtypes: float64(9), int64(2), object(3)\n",
            "memory usage: 1.6+ MB\n"
          ]
        }
      ]
    },
    {
      "cell_type": "code",
      "source": [
        "APD_Test_df.info()"
      ],
      "metadata": {
        "id": "AuAmh3mTgHiu",
        "colab": {
          "base_uri": "https://localhost:8080/"
        },
        "outputId": "3b61a6d1-9248-4a45-9e8d-3e93247f88e5"
      },
      "execution_count": null,
      "outputs": [
        {
          "output_type": "stream",
          "name": "stdout",
          "text": [
            "<class 'pandas.core.frame.DataFrame'>\n",
            "RangeIndex: 3650 entries, 0 to 3649\n",
            "Data columns (total 13 columns):\n",
            " #   Column        Non-Null Count  Dtype  \n",
            "---  ------        --------------  -----  \n",
            " 0   Id            3650 non-null   int64  \n",
            " 1   Date          3650 non-null   object \n",
            " 2   Total Volume  3650 non-null   float64\n",
            " 3   4046          3650 non-null   float64\n",
            " 4   4225          3650 non-null   float64\n",
            " 5   4770          3650 non-null   float64\n",
            " 6   Total Bags    3650 non-null   float64\n",
            " 7   Small Bags    3650 non-null   float64\n",
            " 8   Large Bags    3650 non-null   float64\n",
            " 9   XLarge Bags   3650 non-null   float64\n",
            " 10  type          3650 non-null   object \n",
            " 11  year          3650 non-null   int64  \n",
            " 12  region        3650 non-null   object \n",
            "dtypes: float64(8), int64(2), object(3)\n",
            "memory usage: 370.8+ KB\n"
          ]
        }
      ]
    },
    {
      "cell_type": "code",
      "source": [
        "APD_Train_df.isnull().sum().sum() # Total Missing Value in Train  DF"
      ],
      "metadata": {
        "id": "iLRc1W1DknLr",
        "colab": {
          "base_uri": "https://localhost:8080/"
        },
        "outputId": "5f2eed35-efd7-4b08-be44-585741e4800b"
      },
      "execution_count": null,
      "outputs": [
        {
          "output_type": "execute_result",
          "data": {
            "text/plain": [
              "0"
            ]
          },
          "metadata": {},
          "execution_count": 115
        }
      ]
    },
    {
      "cell_type": "code",
      "source": [
        "#APD_Train_df.isnull().sum()# Column wise mossing values"
      ],
      "metadata": {
        "id": "E9uN0czskq2u"
      },
      "execution_count": null,
      "outputs": []
    },
    {
      "cell_type": "code",
      "source": [
        "APD_Test_df.isnull().sum().sum()# Total Missing Value in Test DF"
      ],
      "metadata": {
        "id": "_pUJ_5AQk0Hh",
        "colab": {
          "base_uri": "https://localhost:8080/"
        },
        "outputId": "bb2b25f8-7a43-44c7-8864-abbc0c1ade62"
      },
      "execution_count": null,
      "outputs": [
        {
          "output_type": "execute_result",
          "data": {
            "text/plain": [
              "0"
            ]
          },
          "metadata": {},
          "execution_count": 117
        }
      ]
    },
    {
      "cell_type": "code",
      "source": [
        "APD_Train_df.duplicated().sum()# Total Duplicate Value in Train DF"
      ],
      "metadata": {
        "id": "vC6qHL3P9Y-8",
        "colab": {
          "base_uri": "https://localhost:8080/"
        },
        "outputId": "8e6e0887-0b38-4f28-9cdb-f016b63cba7f"
      },
      "execution_count": null,
      "outputs": [
        {
          "output_type": "execute_result",
          "data": {
            "text/plain": [
              "0"
            ]
          },
          "metadata": {},
          "execution_count": 118
        }
      ]
    },
    {
      "cell_type": "code",
      "source": [
        "APD_Test_df.duplicated().sum()# Total Duplicate Value in Test DF"
      ],
      "metadata": {
        "colab": {
          "base_uri": "https://localhost:8080/"
        },
        "id": "DleDHwQv9hPU",
        "outputId": "7c0ba315-005b-4127-eea7-07024e8d65e0"
      },
      "execution_count": null,
      "outputs": [
        {
          "output_type": "execute_result",
          "data": {
            "text/plain": [
              "0"
            ]
          },
          "metadata": {},
          "execution_count": 119
        }
      ]
    },
    {
      "cell_type": "code",
      "source": [
        "# Drop Id column from Df\n",
        "APD_Train_df.drop('Id',inplace=True,axis=1)\n",
        "APD_Test_df.drop('Id',inplace=True,axis=1)"
      ],
      "metadata": {
        "id": "US56dJL_94Z8"
      },
      "execution_count": null,
      "outputs": []
    },
    {
      "cell_type": "code",
      "source": [
        "APD_Train_df.head(5)"
      ],
      "metadata": {
        "id": "KOW1eVUc-4Xs",
        "colab": {
          "base_uri": "https://localhost:8080/",
          "height": 206
        },
        "outputId": "884a6249-5649-4643-dbab-591bef1a4c25"
      },
      "execution_count": null,
      "outputs": [
        {
          "output_type": "execute_result",
          "data": {
            "text/plain": [
              "         Date  AveragePrice  Total Volume       4046      4225    4770  \\\n",
              "0  2017-08-20          1.86       2584.08      61.21    143.82    0.00   \n",
              "1  2017-11-12          1.14     100811.00    3181.00  43510.00   86.00   \n",
              "2  2017-02-12          0.95     430096.94  242212.80  81697.52  264.25   \n",
              "3  2016-05-22          1.71       5433.16     437.48   2422.71  544.63   \n",
              "4  2016-01-10          1.66       5614.09    2123.47   2121.26    0.00   \n",
              "\n",
              "   Total Bags  Small Bags  Large Bags  XLarge Bags          type  year  \\\n",
              "0     2379.05     2379.05        0.00          0.0       organic  2017   \n",
              "1    54034.00    11788.00    42246.00          0.0  conventional  2017   \n",
              "2   105922.37    48557.37    57365.00          0.0  conventional  2017   \n",
              "3     2028.34     2021.67        6.67          0.0       organic  2016   \n",
              "4     1369.36      392.02      977.34          0.0       organic  2016   \n",
              "\n",
              "       region  \n",
              "0      Albany  \n",
              "1  Louisville  \n",
              "2     Orlando  \n",
              "3   Charlotte  \n",
              "4     Atlanta  "
            ],
            "text/html": [
              "\n",
              "  <div id=\"df-7c627105-c313-41a8-aae3-406b683a10e6\">\n",
              "    <div class=\"colab-df-container\">\n",
              "      <div>\n",
              "<style scoped>\n",
              "    .dataframe tbody tr th:only-of-type {\n",
              "        vertical-align: middle;\n",
              "    }\n",
              "\n",
              "    .dataframe tbody tr th {\n",
              "        vertical-align: top;\n",
              "    }\n",
              "\n",
              "    .dataframe thead th {\n",
              "        text-align: right;\n",
              "    }\n",
              "</style>\n",
              "<table border=\"1\" class=\"dataframe\">\n",
              "  <thead>\n",
              "    <tr style=\"text-align: right;\">\n",
              "      <th></th>\n",
              "      <th>Date</th>\n",
              "      <th>AveragePrice</th>\n",
              "      <th>Total Volume</th>\n",
              "      <th>4046</th>\n",
              "      <th>4225</th>\n",
              "      <th>4770</th>\n",
              "      <th>Total Bags</th>\n",
              "      <th>Small Bags</th>\n",
              "      <th>Large Bags</th>\n",
              "      <th>XLarge Bags</th>\n",
              "      <th>type</th>\n",
              "      <th>year</th>\n",
              "      <th>region</th>\n",
              "    </tr>\n",
              "  </thead>\n",
              "  <tbody>\n",
              "    <tr>\n",
              "      <th>0</th>\n",
              "      <td>2017-08-20</td>\n",
              "      <td>1.86</td>\n",
              "      <td>2584.08</td>\n",
              "      <td>61.21</td>\n",
              "      <td>143.82</td>\n",
              "      <td>0.00</td>\n",
              "      <td>2379.05</td>\n",
              "      <td>2379.05</td>\n",
              "      <td>0.00</td>\n",
              "      <td>0.0</td>\n",
              "      <td>organic</td>\n",
              "      <td>2017</td>\n",
              "      <td>Albany</td>\n",
              "    </tr>\n",
              "    <tr>\n",
              "      <th>1</th>\n",
              "      <td>2017-11-12</td>\n",
              "      <td>1.14</td>\n",
              "      <td>100811.00</td>\n",
              "      <td>3181.00</td>\n",
              "      <td>43510.00</td>\n",
              "      <td>86.00</td>\n",
              "      <td>54034.00</td>\n",
              "      <td>11788.00</td>\n",
              "      <td>42246.00</td>\n",
              "      <td>0.0</td>\n",
              "      <td>conventional</td>\n",
              "      <td>2017</td>\n",
              "      <td>Louisville</td>\n",
              "    </tr>\n",
              "    <tr>\n",
              "      <th>2</th>\n",
              "      <td>2017-02-12</td>\n",
              "      <td>0.95</td>\n",
              "      <td>430096.94</td>\n",
              "      <td>242212.80</td>\n",
              "      <td>81697.52</td>\n",
              "      <td>264.25</td>\n",
              "      <td>105922.37</td>\n",
              "      <td>48557.37</td>\n",
              "      <td>57365.00</td>\n",
              "      <td>0.0</td>\n",
              "      <td>conventional</td>\n",
              "      <td>2017</td>\n",
              "      <td>Orlando</td>\n",
              "    </tr>\n",
              "    <tr>\n",
              "      <th>3</th>\n",
              "      <td>2016-05-22</td>\n",
              "      <td>1.71</td>\n",
              "      <td>5433.16</td>\n",
              "      <td>437.48</td>\n",
              "      <td>2422.71</td>\n",
              "      <td>544.63</td>\n",
              "      <td>2028.34</td>\n",
              "      <td>2021.67</td>\n",
              "      <td>6.67</td>\n",
              "      <td>0.0</td>\n",
              "      <td>organic</td>\n",
              "      <td>2016</td>\n",
              "      <td>Charlotte</td>\n",
              "    </tr>\n",
              "    <tr>\n",
              "      <th>4</th>\n",
              "      <td>2016-01-10</td>\n",
              "      <td>1.66</td>\n",
              "      <td>5614.09</td>\n",
              "      <td>2123.47</td>\n",
              "      <td>2121.26</td>\n",
              "      <td>0.00</td>\n",
              "      <td>1369.36</td>\n",
              "      <td>392.02</td>\n",
              "      <td>977.34</td>\n",
              "      <td>0.0</td>\n",
              "      <td>organic</td>\n",
              "      <td>2016</td>\n",
              "      <td>Atlanta</td>\n",
              "    </tr>\n",
              "  </tbody>\n",
              "</table>\n",
              "</div>\n",
              "      <button class=\"colab-df-convert\" onclick=\"convertToInteractive('df-7c627105-c313-41a8-aae3-406b683a10e6')\"\n",
              "              title=\"Convert this dataframe to an interactive table.\"\n",
              "              style=\"display:none;\">\n",
              "        \n",
              "  <svg xmlns=\"http://www.w3.org/2000/svg\" height=\"24px\"viewBox=\"0 0 24 24\"\n",
              "       width=\"24px\">\n",
              "    <path d=\"M0 0h24v24H0V0z\" fill=\"none\"/>\n",
              "    <path d=\"M18.56 5.44l.94 2.06.94-2.06 2.06-.94-2.06-.94-.94-2.06-.94 2.06-2.06.94zm-11 1L8.5 8.5l.94-2.06 2.06-.94-2.06-.94L8.5 2.5l-.94 2.06-2.06.94zm10 10l.94 2.06.94-2.06 2.06-.94-2.06-.94-.94-2.06-.94 2.06-2.06.94z\"/><path d=\"M17.41 7.96l-1.37-1.37c-.4-.4-.92-.59-1.43-.59-.52 0-1.04.2-1.43.59L10.3 9.45l-7.72 7.72c-.78.78-.78 2.05 0 2.83L4 21.41c.39.39.9.59 1.41.59.51 0 1.02-.2 1.41-.59l7.78-7.78 2.81-2.81c.8-.78.8-2.07 0-2.86zM5.41 20L4 18.59l7.72-7.72 1.47 1.35L5.41 20z\"/>\n",
              "  </svg>\n",
              "      </button>\n",
              "      \n",
              "  <style>\n",
              "    .colab-df-container {\n",
              "      display:flex;\n",
              "      flex-wrap:wrap;\n",
              "      gap: 12px;\n",
              "    }\n",
              "\n",
              "    .colab-df-convert {\n",
              "      background-color: #E8F0FE;\n",
              "      border: none;\n",
              "      border-radius: 50%;\n",
              "      cursor: pointer;\n",
              "      display: none;\n",
              "      fill: #1967D2;\n",
              "      height: 32px;\n",
              "      padding: 0 0 0 0;\n",
              "      width: 32px;\n",
              "    }\n",
              "\n",
              "    .colab-df-convert:hover {\n",
              "      background-color: #E2EBFA;\n",
              "      box-shadow: 0px 1px 2px rgba(60, 64, 67, 0.3), 0px 1px 3px 1px rgba(60, 64, 67, 0.15);\n",
              "      fill: #174EA6;\n",
              "    }\n",
              "\n",
              "    [theme=dark] .colab-df-convert {\n",
              "      background-color: #3B4455;\n",
              "      fill: #D2E3FC;\n",
              "    }\n",
              "\n",
              "    [theme=dark] .colab-df-convert:hover {\n",
              "      background-color: #434B5C;\n",
              "      box-shadow: 0px 1px 3px 1px rgba(0, 0, 0, 0.15);\n",
              "      filter: drop-shadow(0px 1px 2px rgba(0, 0, 0, 0.3));\n",
              "      fill: #FFFFFF;\n",
              "    }\n",
              "  </style>\n",
              "\n",
              "      <script>\n",
              "        const buttonEl =\n",
              "          document.querySelector('#df-7c627105-c313-41a8-aae3-406b683a10e6 button.colab-df-convert');\n",
              "        buttonEl.style.display =\n",
              "          google.colab.kernel.accessAllowed ? 'block' : 'none';\n",
              "\n",
              "        async function convertToInteractive(key) {\n",
              "          const element = document.querySelector('#df-7c627105-c313-41a8-aae3-406b683a10e6');\n",
              "          const dataTable =\n",
              "            await google.colab.kernel.invokeFunction('convertToInteractive',\n",
              "                                                     [key], {});\n",
              "          if (!dataTable) return;\n",
              "\n",
              "          const docLinkHtml = 'Like what you see? Visit the ' +\n",
              "            '<a target=\"_blank\" href=https://colab.research.google.com/notebooks/data_table.ipynb>data table notebook</a>'\n",
              "            + ' to learn more about interactive tables.';\n",
              "          element.innerHTML = '';\n",
              "          dataTable['output_type'] = 'display_data';\n",
              "          await google.colab.output.renderOutput(dataTable, element);\n",
              "          const docLink = document.createElement('div');\n",
              "          docLink.innerHTML = docLinkHtml;\n",
              "          element.appendChild(docLink);\n",
              "        }\n",
              "      </script>\n",
              "    </div>\n",
              "  </div>\n",
              "  "
            ]
          },
          "metadata": {},
          "execution_count": 57
        }
      ]
    },
    {
      "cell_type": "code",
      "source": [
        "APD_Test_df.head(5)"
      ],
      "metadata": {
        "id": "nUIs6iYf--Ax",
        "colab": {
          "base_uri": "https://localhost:8080/",
          "height": 250
        },
        "outputId": "19bb9401-f514-4cee-bfc1-44cc0d99fc4a"
      },
      "execution_count": null,
      "outputs": [
        {
          "output_type": "execute_result",
          "data": {
            "text/plain": [
              "      Id        Date  Total Volume       4046        4225       4770  \\\n",
              "0  11137  2015-05-03      12425.42     426.78     6174.20     548.21   \n",
              "1  16503  2017-10-08      11837.20    2749.91      124.43       0.00   \n",
              "2   6438  2017-07-02    4250394.01  740503.01  1423924.97  356791.68   \n",
              "3   8247  2017-05-14      74951.66    1032.62    43170.45      42.00   \n",
              "4  10481  2015-12-13       4594.71     592.64     2602.48       0.00   \n",
              "\n",
              "   Total Bags  Small Bags  Large Bags  XLarge Bags          type  year  \\\n",
              "0     5276.23     2313.33     2962.90         0.00       organic  2015   \n",
              "1     8962.86     8921.88       40.98         0.00       organic  2017   \n",
              "2  1729174.35  1157601.31   485376.01     86197.03  conventional  2017   \n",
              "3    30706.59    28525.65     2180.94         0.00  conventional  2017   \n",
              "4     1399.59      696.67      702.92         0.00       organic  2015   \n",
              "\n",
              "            region  \n",
              "0  RichmondNorfolk  \n",
              "1    PhoenixTucson  \n",
              "2       GreatLakes  \n",
              "3         Syracuse  \n",
              "4        Nashville  "
            ],
            "text/html": [
              "\n",
              "  <div id=\"df-c37a5f14-aa48-4678-ab2e-f688354671c6\">\n",
              "    <div class=\"colab-df-container\">\n",
              "      <div>\n",
              "<style scoped>\n",
              "    .dataframe tbody tr th:only-of-type {\n",
              "        vertical-align: middle;\n",
              "    }\n",
              "\n",
              "    .dataframe tbody tr th {\n",
              "        vertical-align: top;\n",
              "    }\n",
              "\n",
              "    .dataframe thead th {\n",
              "        text-align: right;\n",
              "    }\n",
              "</style>\n",
              "<table border=\"1\" class=\"dataframe\">\n",
              "  <thead>\n",
              "    <tr style=\"text-align: right;\">\n",
              "      <th></th>\n",
              "      <th>Id</th>\n",
              "      <th>Date</th>\n",
              "      <th>Total Volume</th>\n",
              "      <th>4046</th>\n",
              "      <th>4225</th>\n",
              "      <th>4770</th>\n",
              "      <th>Total Bags</th>\n",
              "      <th>Small Bags</th>\n",
              "      <th>Large Bags</th>\n",
              "      <th>XLarge Bags</th>\n",
              "      <th>type</th>\n",
              "      <th>year</th>\n",
              "      <th>region</th>\n",
              "    </tr>\n",
              "  </thead>\n",
              "  <tbody>\n",
              "    <tr>\n",
              "      <th>0</th>\n",
              "      <td>11137</td>\n",
              "      <td>2015-05-03</td>\n",
              "      <td>12425.42</td>\n",
              "      <td>426.78</td>\n",
              "      <td>6174.20</td>\n",
              "      <td>548.21</td>\n",
              "      <td>5276.23</td>\n",
              "      <td>2313.33</td>\n",
              "      <td>2962.90</td>\n",
              "      <td>0.00</td>\n",
              "      <td>organic</td>\n",
              "      <td>2015</td>\n",
              "      <td>RichmondNorfolk</td>\n",
              "    </tr>\n",
              "    <tr>\n",
              "      <th>1</th>\n",
              "      <td>16503</td>\n",
              "      <td>2017-10-08</td>\n",
              "      <td>11837.20</td>\n",
              "      <td>2749.91</td>\n",
              "      <td>124.43</td>\n",
              "      <td>0.00</td>\n",
              "      <td>8962.86</td>\n",
              "      <td>8921.88</td>\n",
              "      <td>40.98</td>\n",
              "      <td>0.00</td>\n",
              "      <td>organic</td>\n",
              "      <td>2017</td>\n",
              "      <td>PhoenixTucson</td>\n",
              "    </tr>\n",
              "    <tr>\n",
              "      <th>2</th>\n",
              "      <td>6438</td>\n",
              "      <td>2017-07-02</td>\n",
              "      <td>4250394.01</td>\n",
              "      <td>740503.01</td>\n",
              "      <td>1423924.97</td>\n",
              "      <td>356791.68</td>\n",
              "      <td>1729174.35</td>\n",
              "      <td>1157601.31</td>\n",
              "      <td>485376.01</td>\n",
              "      <td>86197.03</td>\n",
              "      <td>conventional</td>\n",
              "      <td>2017</td>\n",
              "      <td>GreatLakes</td>\n",
              "    </tr>\n",
              "    <tr>\n",
              "      <th>3</th>\n",
              "      <td>8247</td>\n",
              "      <td>2017-05-14</td>\n",
              "      <td>74951.66</td>\n",
              "      <td>1032.62</td>\n",
              "      <td>43170.45</td>\n",
              "      <td>42.00</td>\n",
              "      <td>30706.59</td>\n",
              "      <td>28525.65</td>\n",
              "      <td>2180.94</td>\n",
              "      <td>0.00</td>\n",
              "      <td>conventional</td>\n",
              "      <td>2017</td>\n",
              "      <td>Syracuse</td>\n",
              "    </tr>\n",
              "    <tr>\n",
              "      <th>4</th>\n",
              "      <td>10481</td>\n",
              "      <td>2015-12-13</td>\n",
              "      <td>4594.71</td>\n",
              "      <td>592.64</td>\n",
              "      <td>2602.48</td>\n",
              "      <td>0.00</td>\n",
              "      <td>1399.59</td>\n",
              "      <td>696.67</td>\n",
              "      <td>702.92</td>\n",
              "      <td>0.00</td>\n",
              "      <td>organic</td>\n",
              "      <td>2015</td>\n",
              "      <td>Nashville</td>\n",
              "    </tr>\n",
              "  </tbody>\n",
              "</table>\n",
              "</div>\n",
              "      <button class=\"colab-df-convert\" onclick=\"convertToInteractive('df-c37a5f14-aa48-4678-ab2e-f688354671c6')\"\n",
              "              title=\"Convert this dataframe to an interactive table.\"\n",
              "              style=\"display:none;\">\n",
              "        \n",
              "  <svg xmlns=\"http://www.w3.org/2000/svg\" height=\"24px\"viewBox=\"0 0 24 24\"\n",
              "       width=\"24px\">\n",
              "    <path d=\"M0 0h24v24H0V0z\" fill=\"none\"/>\n",
              "    <path d=\"M18.56 5.44l.94 2.06.94-2.06 2.06-.94-2.06-.94-.94-2.06-.94 2.06-2.06.94zm-11 1L8.5 8.5l.94-2.06 2.06-.94-2.06-.94L8.5 2.5l-.94 2.06-2.06.94zm10 10l.94 2.06.94-2.06 2.06-.94-2.06-.94-.94-2.06-.94 2.06-2.06.94z\"/><path d=\"M17.41 7.96l-1.37-1.37c-.4-.4-.92-.59-1.43-.59-.52 0-1.04.2-1.43.59L10.3 9.45l-7.72 7.72c-.78.78-.78 2.05 0 2.83L4 21.41c.39.39.9.59 1.41.59.51 0 1.02-.2 1.41-.59l7.78-7.78 2.81-2.81c.8-.78.8-2.07 0-2.86zM5.41 20L4 18.59l7.72-7.72 1.47 1.35L5.41 20z\"/>\n",
              "  </svg>\n",
              "      </button>\n",
              "      \n",
              "  <style>\n",
              "    .colab-df-container {\n",
              "      display:flex;\n",
              "      flex-wrap:wrap;\n",
              "      gap: 12px;\n",
              "    }\n",
              "\n",
              "    .colab-df-convert {\n",
              "      background-color: #E8F0FE;\n",
              "      border: none;\n",
              "      border-radius: 50%;\n",
              "      cursor: pointer;\n",
              "      display: none;\n",
              "      fill: #1967D2;\n",
              "      height: 32px;\n",
              "      padding: 0 0 0 0;\n",
              "      width: 32px;\n",
              "    }\n",
              "\n",
              "    .colab-df-convert:hover {\n",
              "      background-color: #E2EBFA;\n",
              "      box-shadow: 0px 1px 2px rgba(60, 64, 67, 0.3), 0px 1px 3px 1px rgba(60, 64, 67, 0.15);\n",
              "      fill: #174EA6;\n",
              "    }\n",
              "\n",
              "    [theme=dark] .colab-df-convert {\n",
              "      background-color: #3B4455;\n",
              "      fill: #D2E3FC;\n",
              "    }\n",
              "\n",
              "    [theme=dark] .colab-df-convert:hover {\n",
              "      background-color: #434B5C;\n",
              "      box-shadow: 0px 1px 3px 1px rgba(0, 0, 0, 0.15);\n",
              "      filter: drop-shadow(0px 1px 2px rgba(0, 0, 0, 0.3));\n",
              "      fill: #FFFFFF;\n",
              "    }\n",
              "  </style>\n",
              "\n",
              "      <script>\n",
              "        const buttonEl =\n",
              "          document.querySelector('#df-c37a5f14-aa48-4678-ab2e-f688354671c6 button.colab-df-convert');\n",
              "        buttonEl.style.display =\n",
              "          google.colab.kernel.accessAllowed ? 'block' : 'none';\n",
              "\n",
              "        async function convertToInteractive(key) {\n",
              "          const element = document.querySelector('#df-c37a5f14-aa48-4678-ab2e-f688354671c6');\n",
              "          const dataTable =\n",
              "            await google.colab.kernel.invokeFunction('convertToInteractive',\n",
              "                                                     [key], {});\n",
              "          if (!dataTable) return;\n",
              "\n",
              "          const docLinkHtml = 'Like what you see? Visit the ' +\n",
              "            '<a target=\"_blank\" href=https://colab.research.google.com/notebooks/data_table.ipynb>data table notebook</a>'\n",
              "            + ' to learn more about interactive tables.';\n",
              "          element.innerHTML = '';\n",
              "          dataTable['output_type'] = 'display_data';\n",
              "          await google.colab.output.renderOutput(dataTable, element);\n",
              "          const docLink = document.createElement('div');\n",
              "          docLink.innerHTML = docLinkHtml;\n",
              "          element.appendChild(docLink);\n",
              "        }\n",
              "      </script>\n",
              "    </div>\n",
              "  </div>\n",
              "  "
            ]
          },
          "metadata": {},
          "execution_count": 58
        }
      ]
    },
    {
      "cell_type": "code",
      "source": [
        "#Split Date Object to Date/ Month/ Year of Train Data\n",
        "APD_Train_df['Date']=pd.to_datetime(APD_Train_df['Date'])\n",
        "APD_Train_df['Month']=APD_Train_df['Date'].apply(lambda x:x.month)\n",
        "APD_Train_df['Day']=APD_Train_df['Date'].apply(lambda x:x.day)"
      ],
      "metadata": {
        "id": "y8NbNmol_ELC"
      },
      "execution_count": null,
      "outputs": []
    },
    {
      "cell_type": "code",
      "source": [
        "APD_Train_df.head(5)"
      ],
      "metadata": {
        "colab": {
          "base_uri": "https://localhost:8080/",
          "height": 354
        },
        "id": "A2RrQOwfBgFX",
        "outputId": "c7044a04-59c9-4cdf-fd11-169402fa2bd3"
      },
      "execution_count": null,
      "outputs": [
        {
          "output_type": "execute_result",
          "data": {
            "text/plain": [
              "        Date  AveragePrice  Total Volume       4046      4225    4770  \\\n",
              "0 2017-08-20          1.86       2584.08      61.21    143.82    0.00   \n",
              "1 2017-11-12          1.14     100811.00    3181.00  43510.00   86.00   \n",
              "2 2017-02-12          0.95     430096.94  242212.80  81697.52  264.25   \n",
              "3 2016-05-22          1.71       5433.16     437.48   2422.71  544.63   \n",
              "4 2016-01-10          1.66       5614.09    2123.47   2121.26    0.00   \n",
              "\n",
              "   Total Bags  Small Bags  Large Bags  XLarge Bags          type  year  \\\n",
              "0     2379.05     2379.05        0.00          0.0       organic  2017   \n",
              "1    54034.00    11788.00    42246.00          0.0  conventional  2017   \n",
              "2   105922.37    48557.37    57365.00          0.0  conventional  2017   \n",
              "3     2028.34     2021.67        6.67          0.0       organic  2016   \n",
              "4     1369.36      392.02      977.34          0.0       organic  2016   \n",
              "\n",
              "       region  Month  Day  \n",
              "0      Albany      8   20  \n",
              "1  Louisville     11   12  \n",
              "2     Orlando      2   12  \n",
              "3   Charlotte      5   22  \n",
              "4     Atlanta      1   10  "
            ],
            "text/html": [
              "\n",
              "  <div id=\"df-eb381f70-b68f-4923-b761-62098c4c89c0\">\n",
              "    <div class=\"colab-df-container\">\n",
              "      <div>\n",
              "<style scoped>\n",
              "    .dataframe tbody tr th:only-of-type {\n",
              "        vertical-align: middle;\n",
              "    }\n",
              "\n",
              "    .dataframe tbody tr th {\n",
              "        vertical-align: top;\n",
              "    }\n",
              "\n",
              "    .dataframe thead th {\n",
              "        text-align: right;\n",
              "    }\n",
              "</style>\n",
              "<table border=\"1\" class=\"dataframe\">\n",
              "  <thead>\n",
              "    <tr style=\"text-align: right;\">\n",
              "      <th></th>\n",
              "      <th>Date</th>\n",
              "      <th>AveragePrice</th>\n",
              "      <th>Total Volume</th>\n",
              "      <th>4046</th>\n",
              "      <th>4225</th>\n",
              "      <th>4770</th>\n",
              "      <th>Total Bags</th>\n",
              "      <th>Small Bags</th>\n",
              "      <th>Large Bags</th>\n",
              "      <th>XLarge Bags</th>\n",
              "      <th>type</th>\n",
              "      <th>year</th>\n",
              "      <th>region</th>\n",
              "      <th>Month</th>\n",
              "      <th>Day</th>\n",
              "    </tr>\n",
              "  </thead>\n",
              "  <tbody>\n",
              "    <tr>\n",
              "      <th>0</th>\n",
              "      <td>2017-08-20</td>\n",
              "      <td>1.86</td>\n",
              "      <td>2584.08</td>\n",
              "      <td>61.21</td>\n",
              "      <td>143.82</td>\n",
              "      <td>0.00</td>\n",
              "      <td>2379.05</td>\n",
              "      <td>2379.05</td>\n",
              "      <td>0.00</td>\n",
              "      <td>0.0</td>\n",
              "      <td>organic</td>\n",
              "      <td>2017</td>\n",
              "      <td>Albany</td>\n",
              "      <td>8</td>\n",
              "      <td>20</td>\n",
              "    </tr>\n",
              "    <tr>\n",
              "      <th>1</th>\n",
              "      <td>2017-11-12</td>\n",
              "      <td>1.14</td>\n",
              "      <td>100811.00</td>\n",
              "      <td>3181.00</td>\n",
              "      <td>43510.00</td>\n",
              "      <td>86.00</td>\n",
              "      <td>54034.00</td>\n",
              "      <td>11788.00</td>\n",
              "      <td>42246.00</td>\n",
              "      <td>0.0</td>\n",
              "      <td>conventional</td>\n",
              "      <td>2017</td>\n",
              "      <td>Louisville</td>\n",
              "      <td>11</td>\n",
              "      <td>12</td>\n",
              "    </tr>\n",
              "    <tr>\n",
              "      <th>2</th>\n",
              "      <td>2017-02-12</td>\n",
              "      <td>0.95</td>\n",
              "      <td>430096.94</td>\n",
              "      <td>242212.80</td>\n",
              "      <td>81697.52</td>\n",
              "      <td>264.25</td>\n",
              "      <td>105922.37</td>\n",
              "      <td>48557.37</td>\n",
              "      <td>57365.00</td>\n",
              "      <td>0.0</td>\n",
              "      <td>conventional</td>\n",
              "      <td>2017</td>\n",
              "      <td>Orlando</td>\n",
              "      <td>2</td>\n",
              "      <td>12</td>\n",
              "    </tr>\n",
              "    <tr>\n",
              "      <th>3</th>\n",
              "      <td>2016-05-22</td>\n",
              "      <td>1.71</td>\n",
              "      <td>5433.16</td>\n",
              "      <td>437.48</td>\n",
              "      <td>2422.71</td>\n",
              "      <td>544.63</td>\n",
              "      <td>2028.34</td>\n",
              "      <td>2021.67</td>\n",
              "      <td>6.67</td>\n",
              "      <td>0.0</td>\n",
              "      <td>organic</td>\n",
              "      <td>2016</td>\n",
              "      <td>Charlotte</td>\n",
              "      <td>5</td>\n",
              "      <td>22</td>\n",
              "    </tr>\n",
              "    <tr>\n",
              "      <th>4</th>\n",
              "      <td>2016-01-10</td>\n",
              "      <td>1.66</td>\n",
              "      <td>5614.09</td>\n",
              "      <td>2123.47</td>\n",
              "      <td>2121.26</td>\n",
              "      <td>0.00</td>\n",
              "      <td>1369.36</td>\n",
              "      <td>392.02</td>\n",
              "      <td>977.34</td>\n",
              "      <td>0.0</td>\n",
              "      <td>organic</td>\n",
              "      <td>2016</td>\n",
              "      <td>Atlanta</td>\n",
              "      <td>1</td>\n",
              "      <td>10</td>\n",
              "    </tr>\n",
              "  </tbody>\n",
              "</table>\n",
              "</div>\n",
              "      <button class=\"colab-df-convert\" onclick=\"convertToInteractive('df-eb381f70-b68f-4923-b761-62098c4c89c0')\"\n",
              "              title=\"Convert this dataframe to an interactive table.\"\n",
              "              style=\"display:none;\">\n",
              "        \n",
              "  <svg xmlns=\"http://www.w3.org/2000/svg\" height=\"24px\"viewBox=\"0 0 24 24\"\n",
              "       width=\"24px\">\n",
              "    <path d=\"M0 0h24v24H0V0z\" fill=\"none\"/>\n",
              "    <path d=\"M18.56 5.44l.94 2.06.94-2.06 2.06-.94-2.06-.94-.94-2.06-.94 2.06-2.06.94zm-11 1L8.5 8.5l.94-2.06 2.06-.94-2.06-.94L8.5 2.5l-.94 2.06-2.06.94zm10 10l.94 2.06.94-2.06 2.06-.94-2.06-.94-.94-2.06-.94 2.06-2.06.94z\"/><path d=\"M17.41 7.96l-1.37-1.37c-.4-.4-.92-.59-1.43-.59-.52 0-1.04.2-1.43.59L10.3 9.45l-7.72 7.72c-.78.78-.78 2.05 0 2.83L4 21.41c.39.39.9.59 1.41.59.51 0 1.02-.2 1.41-.59l7.78-7.78 2.81-2.81c.8-.78.8-2.07 0-2.86zM5.41 20L4 18.59l7.72-7.72 1.47 1.35L5.41 20z\"/>\n",
              "  </svg>\n",
              "      </button>\n",
              "      \n",
              "  <style>\n",
              "    .colab-df-container {\n",
              "      display:flex;\n",
              "      flex-wrap:wrap;\n",
              "      gap: 12px;\n",
              "    }\n",
              "\n",
              "    .colab-df-convert {\n",
              "      background-color: #E8F0FE;\n",
              "      border: none;\n",
              "      border-radius: 50%;\n",
              "      cursor: pointer;\n",
              "      display: none;\n",
              "      fill: #1967D2;\n",
              "      height: 32px;\n",
              "      padding: 0 0 0 0;\n",
              "      width: 32px;\n",
              "    }\n",
              "\n",
              "    .colab-df-convert:hover {\n",
              "      background-color: #E2EBFA;\n",
              "      box-shadow: 0px 1px 2px rgba(60, 64, 67, 0.3), 0px 1px 3px 1px rgba(60, 64, 67, 0.15);\n",
              "      fill: #174EA6;\n",
              "    }\n",
              "\n",
              "    [theme=dark] .colab-df-convert {\n",
              "      background-color: #3B4455;\n",
              "      fill: #D2E3FC;\n",
              "    }\n",
              "\n",
              "    [theme=dark] .colab-df-convert:hover {\n",
              "      background-color: #434B5C;\n",
              "      box-shadow: 0px 1px 3px 1px rgba(0, 0, 0, 0.15);\n",
              "      filter: drop-shadow(0px 1px 2px rgba(0, 0, 0, 0.3));\n",
              "      fill: #FFFFFF;\n",
              "    }\n",
              "  </style>\n",
              "\n",
              "      <script>\n",
              "        const buttonEl =\n",
              "          document.querySelector('#df-eb381f70-b68f-4923-b761-62098c4c89c0 button.colab-df-convert');\n",
              "        buttonEl.style.display =\n",
              "          google.colab.kernel.accessAllowed ? 'block' : 'none';\n",
              "\n",
              "        async function convertToInteractive(key) {\n",
              "          const element = document.querySelector('#df-eb381f70-b68f-4923-b761-62098c4c89c0');\n",
              "          const dataTable =\n",
              "            await google.colab.kernel.invokeFunction('convertToInteractive',\n",
              "                                                     [key], {});\n",
              "          if (!dataTable) return;\n",
              "\n",
              "          const docLinkHtml = 'Like what you see? Visit the ' +\n",
              "            '<a target=\"_blank\" href=https://colab.research.google.com/notebooks/data_table.ipynb>data table notebook</a>'\n",
              "            + ' to learn more about interactive tables.';\n",
              "          element.innerHTML = '';\n",
              "          dataTable['output_type'] = 'display_data';\n",
              "          await google.colab.output.renderOutput(dataTable, element);\n",
              "          const docLink = document.createElement('div');\n",
              "          docLink.innerHTML = docLinkHtml;\n",
              "          element.appendChild(docLink);\n",
              "        }\n",
              "      </script>\n",
              "    </div>\n",
              "  </div>\n",
              "  "
            ]
          },
          "metadata": {},
          "execution_count": 60
        }
      ]
    },
    {
      "cell_type": "code",
      "source": [
        "#Split Date Object to Date/ Month/ Year of Test Data\n",
        "APD_Test_df['Date']=pd.to_datetime(APD_Test_df['Date'])\n",
        "APD_Test_df['Month']=APD_Test_df['Date'].apply(lambda x:x.month)\n",
        "APD_Test_df['Day']=APD_Test_df['Date'].apply(lambda x:x.day)"
      ],
      "metadata": {
        "id": "ygt3T9FVCAD2"
      },
      "execution_count": null,
      "outputs": []
    },
    {
      "cell_type": "code",
      "source": [
        "APD_Test_df.head(5)"
      ],
      "metadata": {
        "colab": {
          "base_uri": "https://localhost:8080/",
          "height": 354
        },
        "id": "lmvydJiOOw4C",
        "outputId": "163ac6c8-b9b7-491c-e023-35b89a50b3c1"
      },
      "execution_count": null,
      "outputs": [
        {
          "output_type": "execute_result",
          "data": {
            "text/plain": [
              "      Id       Date  Total Volume       4046        4225       4770  \\\n",
              "0  11137 2015-05-03      12425.42     426.78     6174.20     548.21   \n",
              "1  16503 2017-10-08      11837.20    2749.91      124.43       0.00   \n",
              "2   6438 2017-07-02    4250394.01  740503.01  1423924.97  356791.68   \n",
              "3   8247 2017-05-14      74951.66    1032.62    43170.45      42.00   \n",
              "4  10481 2015-12-13       4594.71     592.64     2602.48       0.00   \n",
              "\n",
              "   Total Bags  Small Bags  Large Bags  XLarge Bags          type  year  \\\n",
              "0     5276.23     2313.33     2962.90         0.00       organic  2015   \n",
              "1     8962.86     8921.88       40.98         0.00       organic  2017   \n",
              "2  1729174.35  1157601.31   485376.01     86197.03  conventional  2017   \n",
              "3    30706.59    28525.65     2180.94         0.00  conventional  2017   \n",
              "4     1399.59      696.67      702.92         0.00       organic  2015   \n",
              "\n",
              "            region  Month  Day  \n",
              "0  RichmondNorfolk      5    3  \n",
              "1    PhoenixTucson     10    8  \n",
              "2       GreatLakes      7    2  \n",
              "3         Syracuse      5   14  \n",
              "4        Nashville     12   13  "
            ],
            "text/html": [
              "\n",
              "  <div id=\"df-5c33e792-9956-4eda-882f-93a2a4147185\">\n",
              "    <div class=\"colab-df-container\">\n",
              "      <div>\n",
              "<style scoped>\n",
              "    .dataframe tbody tr th:only-of-type {\n",
              "        vertical-align: middle;\n",
              "    }\n",
              "\n",
              "    .dataframe tbody tr th {\n",
              "        vertical-align: top;\n",
              "    }\n",
              "\n",
              "    .dataframe thead th {\n",
              "        text-align: right;\n",
              "    }\n",
              "</style>\n",
              "<table border=\"1\" class=\"dataframe\">\n",
              "  <thead>\n",
              "    <tr style=\"text-align: right;\">\n",
              "      <th></th>\n",
              "      <th>Id</th>\n",
              "      <th>Date</th>\n",
              "      <th>Total Volume</th>\n",
              "      <th>4046</th>\n",
              "      <th>4225</th>\n",
              "      <th>4770</th>\n",
              "      <th>Total Bags</th>\n",
              "      <th>Small Bags</th>\n",
              "      <th>Large Bags</th>\n",
              "      <th>XLarge Bags</th>\n",
              "      <th>type</th>\n",
              "      <th>year</th>\n",
              "      <th>region</th>\n",
              "      <th>Month</th>\n",
              "      <th>Day</th>\n",
              "    </tr>\n",
              "  </thead>\n",
              "  <tbody>\n",
              "    <tr>\n",
              "      <th>0</th>\n",
              "      <td>11137</td>\n",
              "      <td>2015-05-03</td>\n",
              "      <td>12425.42</td>\n",
              "      <td>426.78</td>\n",
              "      <td>6174.20</td>\n",
              "      <td>548.21</td>\n",
              "      <td>5276.23</td>\n",
              "      <td>2313.33</td>\n",
              "      <td>2962.90</td>\n",
              "      <td>0.00</td>\n",
              "      <td>organic</td>\n",
              "      <td>2015</td>\n",
              "      <td>RichmondNorfolk</td>\n",
              "      <td>5</td>\n",
              "      <td>3</td>\n",
              "    </tr>\n",
              "    <tr>\n",
              "      <th>1</th>\n",
              "      <td>16503</td>\n",
              "      <td>2017-10-08</td>\n",
              "      <td>11837.20</td>\n",
              "      <td>2749.91</td>\n",
              "      <td>124.43</td>\n",
              "      <td>0.00</td>\n",
              "      <td>8962.86</td>\n",
              "      <td>8921.88</td>\n",
              "      <td>40.98</td>\n",
              "      <td>0.00</td>\n",
              "      <td>organic</td>\n",
              "      <td>2017</td>\n",
              "      <td>PhoenixTucson</td>\n",
              "      <td>10</td>\n",
              "      <td>8</td>\n",
              "    </tr>\n",
              "    <tr>\n",
              "      <th>2</th>\n",
              "      <td>6438</td>\n",
              "      <td>2017-07-02</td>\n",
              "      <td>4250394.01</td>\n",
              "      <td>740503.01</td>\n",
              "      <td>1423924.97</td>\n",
              "      <td>356791.68</td>\n",
              "      <td>1729174.35</td>\n",
              "      <td>1157601.31</td>\n",
              "      <td>485376.01</td>\n",
              "      <td>86197.03</td>\n",
              "      <td>conventional</td>\n",
              "      <td>2017</td>\n",
              "      <td>GreatLakes</td>\n",
              "      <td>7</td>\n",
              "      <td>2</td>\n",
              "    </tr>\n",
              "    <tr>\n",
              "      <th>3</th>\n",
              "      <td>8247</td>\n",
              "      <td>2017-05-14</td>\n",
              "      <td>74951.66</td>\n",
              "      <td>1032.62</td>\n",
              "      <td>43170.45</td>\n",
              "      <td>42.00</td>\n",
              "      <td>30706.59</td>\n",
              "      <td>28525.65</td>\n",
              "      <td>2180.94</td>\n",
              "      <td>0.00</td>\n",
              "      <td>conventional</td>\n",
              "      <td>2017</td>\n",
              "      <td>Syracuse</td>\n",
              "      <td>5</td>\n",
              "      <td>14</td>\n",
              "    </tr>\n",
              "    <tr>\n",
              "      <th>4</th>\n",
              "      <td>10481</td>\n",
              "      <td>2015-12-13</td>\n",
              "      <td>4594.71</td>\n",
              "      <td>592.64</td>\n",
              "      <td>2602.48</td>\n",
              "      <td>0.00</td>\n",
              "      <td>1399.59</td>\n",
              "      <td>696.67</td>\n",
              "      <td>702.92</td>\n",
              "      <td>0.00</td>\n",
              "      <td>organic</td>\n",
              "      <td>2015</td>\n",
              "      <td>Nashville</td>\n",
              "      <td>12</td>\n",
              "      <td>13</td>\n",
              "    </tr>\n",
              "  </tbody>\n",
              "</table>\n",
              "</div>\n",
              "      <button class=\"colab-df-convert\" onclick=\"convertToInteractive('df-5c33e792-9956-4eda-882f-93a2a4147185')\"\n",
              "              title=\"Convert this dataframe to an interactive table.\"\n",
              "              style=\"display:none;\">\n",
              "        \n",
              "  <svg xmlns=\"http://www.w3.org/2000/svg\" height=\"24px\"viewBox=\"0 0 24 24\"\n",
              "       width=\"24px\">\n",
              "    <path d=\"M0 0h24v24H0V0z\" fill=\"none\"/>\n",
              "    <path d=\"M18.56 5.44l.94 2.06.94-2.06 2.06-.94-2.06-.94-.94-2.06-.94 2.06-2.06.94zm-11 1L8.5 8.5l.94-2.06 2.06-.94-2.06-.94L8.5 2.5l-.94 2.06-2.06.94zm10 10l.94 2.06.94-2.06 2.06-.94-2.06-.94-.94-2.06-.94 2.06-2.06.94z\"/><path d=\"M17.41 7.96l-1.37-1.37c-.4-.4-.92-.59-1.43-.59-.52 0-1.04.2-1.43.59L10.3 9.45l-7.72 7.72c-.78.78-.78 2.05 0 2.83L4 21.41c.39.39.9.59 1.41.59.51 0 1.02-.2 1.41-.59l7.78-7.78 2.81-2.81c.8-.78.8-2.07 0-2.86zM5.41 20L4 18.59l7.72-7.72 1.47 1.35L5.41 20z\"/>\n",
              "  </svg>\n",
              "      </button>\n",
              "      \n",
              "  <style>\n",
              "    .colab-df-container {\n",
              "      display:flex;\n",
              "      flex-wrap:wrap;\n",
              "      gap: 12px;\n",
              "    }\n",
              "\n",
              "    .colab-df-convert {\n",
              "      background-color: #E8F0FE;\n",
              "      border: none;\n",
              "      border-radius: 50%;\n",
              "      cursor: pointer;\n",
              "      display: none;\n",
              "      fill: #1967D2;\n",
              "      height: 32px;\n",
              "      padding: 0 0 0 0;\n",
              "      width: 32px;\n",
              "    }\n",
              "\n",
              "    .colab-df-convert:hover {\n",
              "      background-color: #E2EBFA;\n",
              "      box-shadow: 0px 1px 2px rgba(60, 64, 67, 0.3), 0px 1px 3px 1px rgba(60, 64, 67, 0.15);\n",
              "      fill: #174EA6;\n",
              "    }\n",
              "\n",
              "    [theme=dark] .colab-df-convert {\n",
              "      background-color: #3B4455;\n",
              "      fill: #D2E3FC;\n",
              "    }\n",
              "\n",
              "    [theme=dark] .colab-df-convert:hover {\n",
              "      background-color: #434B5C;\n",
              "      box-shadow: 0px 1px 3px 1px rgba(0, 0, 0, 0.15);\n",
              "      filter: drop-shadow(0px 1px 2px rgba(0, 0, 0, 0.3));\n",
              "      fill: #FFFFFF;\n",
              "    }\n",
              "  </style>\n",
              "\n",
              "      <script>\n",
              "        const buttonEl =\n",
              "          document.querySelector('#df-5c33e792-9956-4eda-882f-93a2a4147185 button.colab-df-convert');\n",
              "        buttonEl.style.display =\n",
              "          google.colab.kernel.accessAllowed ? 'block' : 'none';\n",
              "\n",
              "        async function convertToInteractive(key) {\n",
              "          const element = document.querySelector('#df-5c33e792-9956-4eda-882f-93a2a4147185');\n",
              "          const dataTable =\n",
              "            await google.colab.kernel.invokeFunction('convertToInteractive',\n",
              "                                                     [key], {});\n",
              "          if (!dataTable) return;\n",
              "\n",
              "          const docLinkHtml = 'Like what you see? Visit the ' +\n",
              "            '<a target=\"_blank\" href=https://colab.research.google.com/notebooks/data_table.ipynb>data table notebook</a>'\n",
              "            + ' to learn more about interactive tables.';\n",
              "          element.innerHTML = '';\n",
              "          dataTable['output_type'] = 'display_data';\n",
              "          await google.colab.output.renderOutput(dataTable, element);\n",
              "          const docLink = document.createElement('div');\n",
              "          docLink.innerHTML = docLinkHtml;\n",
              "          element.appendChild(docLink);\n",
              "        }\n",
              "      </script>\n",
              "    </div>\n",
              "  </div>\n",
              "  "
            ]
          },
          "metadata": {},
          "execution_count": 62
        }
      ]
    },
    {
      "cell_type": "code",
      "source": [
        "APD_Train_df['type'].nunique()"
      ],
      "metadata": {
        "colab": {
          "base_uri": "https://localhost:8080/"
        },
        "id": "v44wgYI7uwVs",
        "outputId": "d79af2b6-eeb5-4f79-bb39-70553fc9b6a7"
      },
      "execution_count": null,
      "outputs": [
        {
          "output_type": "execute_result",
          "data": {
            "text/plain": [
              "2"
            ]
          },
          "metadata": {},
          "execution_count": 63
        }
      ]
    },
    {
      "cell_type": "code",
      "source": [
        "APD_Train_df.groupby('type').size()"
      ],
      "metadata": {
        "colab": {
          "base_uri": "https://localhost:8080/"
        },
        "id": "6o3kiSE2vWny",
        "outputId": "fb0de2b4-a304-4729-f922-71f9934f4732"
      },
      "execution_count": null,
      "outputs": [
        {
          "output_type": "execute_result",
          "data": {
            "text/plain": [
              "type\n",
              "conventional    7301\n",
              "organic         7298\n",
              "dtype: int64"
            ]
          },
          "metadata": {},
          "execution_count": 64
        }
      ]
    },
    {
      "cell_type": "code",
      "source": [
        "APD_Train_df['region'].nunique()"
      ],
      "metadata": {
        "colab": {
          "base_uri": "https://localhost:8080/"
        },
        "id": "OM3JrgG-vce9",
        "outputId": "5b903ba9-5146-4c00-c905-cde0cd13525b"
      },
      "execution_count": null,
      "outputs": [
        {
          "output_type": "execute_result",
          "data": {
            "text/plain": [
              "54"
            ]
          },
          "metadata": {},
          "execution_count": 65
        }
      ]
    },
    {
      "cell_type": "code",
      "source": [
        "# APD_Train_df.groupby('region').size()"
      ],
      "metadata": {
        "id": "I9Eemp8wvrG_"
      },
      "execution_count": null,
      "outputs": []
    },
    {
      "cell_type": "code",
      "source": [
        "APD_Train_df.skew()"
      ],
      "metadata": {
        "colab": {
          "base_uri": "https://localhost:8080/"
        },
        "id": "BHRADHzTUD90",
        "outputId": "d2af456c-1e6e-4aa8-e97c-369eeb1e2e3b"
      },
      "execution_count": null,
      "outputs": [
        {
          "output_type": "execute_result",
          "data": {
            "text/plain": [
              "AveragePrice     0.581313\n",
              "Total Volume     9.279850\n",
              "4046             8.854903\n",
              "4225             9.213700\n",
              "4770            10.603288\n",
              "Total Bags      10.126847\n",
              "Small Bags       9.867414\n",
              "Large Bags      10.235405\n",
              "XLarge Bags     13.809064\n",
              "year             0.213583\n",
              "Month            0.093870\n",
              "Day              0.010784\n",
              "dtype: float64"
            ]
          },
          "metadata": {},
          "execution_count": 66
        }
      ]
    },
    {
      "cell_type": "markdown",
      "source": [
        "\n",
        "#6. EDA & Class Imbalance Check"
      ],
      "metadata": {
        "id": "wUSiOs-5OlZL"
      }
    },
    {
      "cell_type": "code",
      "source": [
        "# Avocado's Average Price through the Date\n",
        "byDate=APD_Train_df.groupby('Date').mean()\n",
        "plt.figure(figsize=(12,8))\n",
        "byDate['AveragePrice'].plot()\n",
        "plt.title('Average Price')\n",
        "plt.show()"
      ],
      "metadata": {
        "colab": {
          "base_uri": "https://localhost:8080/",
          "height": 524
        },
        "id": "_5oiodbpOk-7",
        "outputId": "55f188db-461c-48dc-86f2-e0a5466c9e8b"
      },
      "execution_count": null,
      "outputs": [
        {
          "output_type": "display_data",
          "data": {
            "text/plain": [
              "<Figure size 864x576 with 1 Axes>"
            ],
            "image/png": "[encoded data removed]"
          },
          "metadata": {
            "needs_background": "light"
          }
        }
      ]
    },
    {
      "cell_type": "code",
      "source": [
        "#Average Price by Region\n",
        "plt.figure(figsize=(12,5))\n",
        "plt.title(\"Distribution Price\")\n",
        "ax = sns.distplot(APD_Train_df[\"AveragePrice\"], color = 'R')"
      ],
      "metadata": {
        "colab": {
          "base_uri": "https://localhost:8080/",
          "height": 350
        },
        "id": "apl64H5pUkUJ",
        "outputId": "d58d59d5-66a2-4e69-dd38-d4e9f6abcfaf"
      },
      "execution_count": null,
      "outputs": [
        {
          "output_type": "display_data",
          "data": {
            "text/plain": [
              "<Figure size 864x360 with 1 Axes>"
            ],
            "image/png": "[encoded data removed]"
          },
          "metadata": {
            "needs_background": "light"
          }
        }
      ]
    },
    {
      "cell_type": "code",
      "source": [
        "APD_Train_df.corr()\n",
        "# sns.pairplot(APD_Train_df)\n",
        "# plt.show()"
      ],
      "metadata": {
        "colab": {
          "base_uri": "https://localhost:8080/",
          "height": 469
        },
        "id": "8_fAW0mUQIe6",
        "outputId": "afb0156a-3dd0-488a-e02d-2f6d2cbcf6e5"
      },
      "execution_count": null,
      "outputs": [
        {
          "output_type": "execute_result",
          "data": {
            "text/plain": [
              "              AveragePrice  Total Volume      4046      4225      4770  \\\n",
              "AveragePrice      1.000000     -0.194316 -0.210214 -0.173584 -0.178898   \n",
              "Total Volume     -0.194316      1.000000  0.975787  0.972964  0.865017   \n",
              "4046             -0.210214      0.975787  1.000000  0.920712  0.824506   \n",
              "4225             -0.173584      0.972964  0.920712  1.000000  0.879280   \n",
              "4770             -0.178898      0.865017  0.824506  0.879280  1.000000   \n",
              "Total Bags       -0.178161      0.961430  0.914055  0.902999  0.783390   \n",
              "Small Bags       -0.175261      0.965507  0.919157  0.913477  0.793953   \n",
              "Large Bags       -0.174219      0.872056  0.826518  0.799675  0.682296   \n",
              "XLarge Bags      -0.118503      0.747936  0.695311  0.690658  0.693546   \n",
              "year              0.099698      0.016044  0.002110 -0.011195 -0.037146   \n",
              "Month             0.163394     -0.025326 -0.026986 -0.023799 -0.035180   \n",
              "Day               0.027757     -0.008746 -0.008999 -0.011486 -0.004899   \n",
              "\n",
              "              Total Bags  Small Bags  Large Bags  XLarge Bags      year  \\\n",
              "AveragePrice   -0.178161   -0.175261   -0.174219    -0.118503  0.099698   \n",
              "Total Volume    0.961430    0.965507    0.872056     0.747936  0.016044   \n",
              "4046            0.914055    0.919157    0.826518     0.695311  0.002110   \n",
              "4225            0.902999    0.913477    0.799675     0.690658 -0.011195   \n",
              "4770            0.783390    0.793953    0.682296     0.693546 -0.037146   \n",
              "Total Bags      1.000000    0.993775    0.937043     0.803396  0.071005   \n",
              "Small Bags      0.993775    1.000000    0.892609     0.809134  0.063230   \n",
              "Large Bags      0.937043    0.892609    1.000000     0.693906  0.087499   \n",
              "XLarge Bags     0.803396    0.809134    0.693906     1.000000  0.075655   \n",
              "year            0.071005    0.063230    0.087499     0.075655  1.000000   \n",
              "Month          -0.021024   -0.021466   -0.018259    -0.012776 -0.173254   \n",
              "Day            -0.004474   -0.003096   -0.008678     0.001458  0.001157   \n",
              "\n",
              "                 Month       Day  \n",
              "AveragePrice  0.163394  0.027757  \n",
              "Total Volume -0.025326 -0.008746  \n",
              "4046         -0.026986 -0.008999  \n",
              "4225         -0.023799 -0.011486  \n",
              "4770         -0.035180 -0.004899  \n",
              "Total Bags   -0.021024 -0.004474  \n",
              "Small Bags   -0.021466 -0.003096  \n",
              "Large Bags   -0.018259 -0.008678  \n",
              "XLarge Bags  -0.012776  0.001458  \n",
              "year         -0.173254  0.001157  \n",
              "Month         1.000000  0.008467  \n",
              "Day           0.008467  1.000000  "
            ],
            "text/html": [
              "\n",
              "  <div id=\"df-8c0f4ca7-a5bd-4f07-a4b9-0fbce46832da\">\n",
              "    <div class=\"colab-df-container\">\n",
              "      <div>\n",
              "<style scoped>\n",
              "    .dataframe tbody tr th:only-of-type {\n",
              "        vertical-align: middle;\n",
              "    }\n",
              "\n",
              "    .dataframe tbody tr th {\n",
              "        vertical-align: top;\n",
              "    }\n",
              "\n",
              "    .dataframe thead th {\n",
              "        text-align: right;\n",
              "    }\n",
              "</style>\n",
              "<table border=\"1\" class=\"dataframe\">\n",
              "  <thead>\n",
              "    <tr style=\"text-align: right;\">\n",
              "      <th></th>\n",
              "      <th>AveragePrice</th>\n",
              "      <th>Total Volume</th>\n",
              "      <th>4046</th>\n",
              "      <th>4225</th>\n",
              "      <th>4770</th>\n",
              "      <th>Total Bags</th>\n",
              "      <th>Small Bags</th>\n",
              "      <th>Large Bags</th>\n",
              "      <th>XLarge Bags</th>\n",
              "      <th>year</th>\n",
              "      <th>Month</th>\n",
              "      <th>Day</th>\n",
              "    </tr>\n",
              "  </thead>\n",
              "  <tbody>\n",
              "    <tr>\n",
              "      <th>AveragePrice</th>\n",
              "      <td>1.000000</td>\n",
              "      <td>-0.194316</td>\n",
              "      <td>-0.210214</td>\n",
              "      <td>-0.173584</td>\n",
              "      <td>-0.178898</td>\n",
              "      <td>-0.178161</td>\n",
              "      <td>-0.175261</td>\n",
              "      <td>-0.174219</td>\n",
              "      <td>-0.118503</td>\n",
              "      <td>0.099698</td>\n",
              "      <td>0.163394</td>\n",
              "      <td>0.027757</td>\n",
              "    </tr>\n",
              "    <tr>\n",
              "      <th>Total Volume</th>\n",
              "      <td>-0.194316</td>\n",
              "      <td>1.000000</td>\n",
              "      <td>0.975787</td>\n",
              "      <td>0.972964</td>\n",
              "      <td>0.865017</td>\n",
              "      <td>0.961430</td>\n",
              "      <td>0.965507</td>\n",
              "      <td>0.872056</td>\n",
              "      <td>0.747936</td>\n",
              "      <td>0.016044</td>\n",
              "      <td>-0.025326</td>\n",
              "      <td>-0.008746</td>\n",
              "    </tr>\n",
              "    <tr>\n",
              "      <th>4046</th>\n",
              "      <td>-0.210214</td>\n",
              "      <td>0.975787</td>\n",
              "      <td>1.000000</td>\n",
              "      <td>0.920712</td>\n",
              "      <td>0.824506</td>\n",
              "      <td>0.914055</td>\n",
              "      <td>0.919157</td>\n",
              "      <td>0.826518</td>\n",
              "      <td>0.695311</td>\n",
              "      <td>0.002110</td>\n",
              "      <td>-0.026986</td>\n",
              "      <td>-0.008999</td>\n",
              "    </tr>\n",
              "    <tr>\n",
              "      <th>4225</th>\n",
              "      <td>-0.173584</td>\n",
              "      <td>0.972964</td>\n",
              "      <td>0.920712</td>\n",
              "      <td>1.000000</td>\n",
              "      <td>0.879280</td>\n",
              "      <td>0.902999</td>\n",
              "      <td>0.913477</td>\n",
              "      <td>0.799675</td>\n",
              "      <td>0.690658</td>\n",
              "      <td>-0.011195</td>\n",
              "      <td>-0.023799</td>\n",
              "      <td>-0.011486</td>\n",
              "    </tr>\n",
              "    <tr>\n",
              "      <th>4770</th>\n",
              "      <td>-0.178898</td>\n",
              "      <td>0.865017</td>\n",
              "      <td>0.824506</td>\n",
              "      <td>0.879280</td>\n",
              "      <td>1.000000</td>\n",
              "      <td>0.783390</td>\n",
              "      <td>0.793953</td>\n",
              "      <td>0.682296</td>\n",
              "      <td>0.693546</td>\n",
              "      <td>-0.037146</td>\n",
              "      <td>-0.035180</td>\n",
              "      <td>-0.004899</td>\n",
              "    </tr>\n",
              "    <tr>\n",
              "      <th>Total Bags</th>\n",
              "      <td>-0.178161</td>\n",
              "      <td>0.961430</td>\n",
              "      <td>0.914055</td>\n",
              "      <td>0.902999</td>\n",
              "      <td>0.783390</td>\n",
              "      <td>1.000000</td>\n",
              "      <td>0.993775</td>\n",
              "      <td>0.937043</td>\n",
              "      <td>0.803396</td>\n",
              "      <td>0.071005</td>\n",
              "      <td>-0.021024</td>\n",
              "      <td>-0.004474</td>\n",
              "    </tr>\n",
              "    <tr>\n",
              "      <th>Small Bags</th>\n",
              "      <td>-0.175261</td>\n",
              "      <td>0.965507</td>\n",
              "      <td>0.919157</td>\n",
              "      <td>0.913477</td>\n",
              "      <td>0.793953</td>\n",
              "      <td>0.993775</td>\n",
              "      <td>1.000000</td>\n",
              "      <td>0.892609</td>\n",
              "      <td>0.809134</td>\n",
              "      <td>0.063230</td>\n",
              "      <td>-0.021466</td>\n",
              "      <td>-0.003096</td>\n",
              "    </tr>\n",
              "    <tr>\n",
              "      <th>Large Bags</th>\n",
              "      <td>-0.174219</td>\n",
              "      <td>0.872056</td>\n",
              "      <td>0.826518</td>\n",
              "      <td>0.799675</td>\n",
              "      <td>0.682296</td>\n",
              "      <td>0.937043</td>\n",
              "      <td>0.892609</td>\n",
              "      <td>1.000000</td>\n",
              "      <td>0.693906</td>\n",
              "      <td>0.087499</td>\n",
              "      <td>-0.018259</td>\n",
              "      <td>-0.008678</td>\n",
              "    </tr>\n",
              "    <tr>\n",
              "      <th>XLarge Bags</th>\n",
              "      <td>-0.118503</td>\n",
              "      <td>0.747936</td>\n",
              "      <td>0.695311</td>\n",
              "      <td>0.690658</td>\n",
              "      <td>0.693546</td>\n",
              "      <td>0.803396</td>\n",
              "      <td>0.809134</td>\n",
              "      <td>0.693906</td>\n",
              "      <td>1.000000</td>\n",
              "      <td>0.075655</td>\n",
              "      <td>-0.012776</td>\n",
              "      <td>0.001458</td>\n",
              "    </tr>\n",
              "    <tr>\n",
              "      <th>year</th>\n",
              "      <td>0.099698</td>\n",
              "      <td>0.016044</td>\n",
              "      <td>0.002110</td>\n",
              "      <td>-0.011195</td>\n",
              "      <td>-0.037146</td>\n",
              "      <td>0.071005</td>\n",
              "      <td>0.063230</td>\n",
              "      <td>0.087499</td>\n",
              "      <td>0.075655</td>\n",
              "      <td>1.000000</td>\n",
              "      <td>-0.173254</td>\n",
              "      <td>0.001157</td>\n",
              "    </tr>\n",
              "    <tr>\n",
              "      <th>Month</th>\n",
              "      <td>0.163394</td>\n",
              "      <td>-0.025326</td>\n",
              "      <td>-0.026986</td>\n",
              "      <td>-0.023799</td>\n",
              "      <td>-0.035180</td>\n",
              "      <td>-0.021024</td>\n",
              "      <td>-0.021466</td>\n",
              "      <td>-0.018259</td>\n",
              "      <td>-0.012776</td>\n",
              "      <td>-0.173254</td>\n",
              "      <td>1.000000</td>\n",
              "      <td>0.008467</td>\n",
              "    </tr>\n",
              "    <tr>\n",
              "      <th>Day</th>\n",
              "      <td>0.027757</td>\n",
              "      <td>-0.008746</td>\n",
              "      <td>-0.008999</td>\n",
              "      <td>-0.011486</td>\n",
              "      <td>-0.004899</td>\n",
              "      <td>-0.004474</td>\n",
              "      <td>-0.003096</td>\n",
              "      <td>-0.008678</td>\n",
              "      <td>0.001458</td>\n",
              "      <td>0.001157</td>\n",
              "      <td>0.008467</td>\n",
              "      <td>1.000000</td>\n",
              "    </tr>\n",
              "  </tbody>\n",
              "</table>\n",
              "</div>\n",
              "      <button class=\"colab-df-convert\" onclick=\"convertToInteractive('df-8c0f4ca7-a5bd-4f07-a4b9-0fbce46832da')\"\n",
              "              title=\"Convert this dataframe to an interactive table.\"\n",
              "              style=\"display:none;\">\n",
              "        \n",
              "  <svg xmlns=\"http://www.w3.org/2000/svg\" height=\"24px\"viewBox=\"0 0 24 24\"\n",
              "       width=\"24px\">\n",
              "    <path d=\"M0 0h24v24H0V0z\" fill=\"none\"/>\n",
              "    <path d=\"M18.56 5.44l.94 2.06.94-2.06 2.06-.94-2.06-.94-.94-2.06-.94 2.06-2.06.94zm-11 1L8.5 8.5l.94-2.06 2.06-.94-2.06-.94L8.5 2.5l-.94 2.06-2.06.94zm10 10l.94 2.06.94-2.06 2.06-.94-2.06-.94-.94-2.06-.94 2.06-2.06.94z\"/><path d=\"M17.41 7.96l-1.37-1.37c-.4-.4-.92-.59-1.43-.59-.52 0-1.04.2-1.43.59L10.3 9.45l-7.72 7.72c-.78.78-.78 2.05 0 2.83L4 21.41c.39.39.9.59 1.41.59.51 0 1.02-.2 1.41-.59l7.78-7.78 2.81-2.81c.8-.78.8-2.07 0-2.86zM5.41 20L4 18.59l7.72-7.72 1.47 1.35L5.41 20z\"/>\n",
              "  </svg>\n",
              "      </button>\n",
              "      \n",
              "  <style>\n",
              "    .colab-df-container {\n",
              "      display:flex;\n",
              "      flex-wrap:wrap;\n",
              "      gap: 12px;\n",
              "    }\n",
              "\n",
              "    .colab-df-convert {\n",
              "      background-color: #E8F0FE;\n",
              "      border: none;\n",
              "      border-radius: 50%;\n",
              "      cursor: pointer;\n",
              "      display: none;\n",
              "      fill: #1967D2;\n",
              "      height: 32px;\n",
              "      padding: 0 0 0 0;\n",
              "      width: 32px;\n",
              "    }\n",
              "\n",
              "    .colab-df-convert:hover {\n",
              "      background-color: #E2EBFA;\n",
              "      box-shadow: 0px 1px 2px rgba(60, 64, 67, 0.3), 0px 1px 3px 1px rgba(60, 64, 67, 0.15);\n",
              "      fill: #174EA6;\n",
              "    }\n",
              "\n",
              "    [theme=dark] .colab-df-convert {\n",
              "      background-color: #3B4455;\n",
              "      fill: #D2E3FC;\n",
              "    }\n",
              "\n",
              "    [theme=dark] .colab-df-convert:hover {\n",
              "      background-color: #434B5C;\n",
              "      box-shadow: 0px 1px 3px 1px rgba(0, 0, 0, 0.15);\n",
              "      filter: drop-shadow(0px 1px 2px rgba(0, 0, 0, 0.3));\n",
              "      fill: #FFFFFF;\n",
              "    }\n",
              "  </style>\n",
              "\n",
              "      <script>\n",
              "        const buttonEl =\n",
              "          document.querySelector('#df-8c0f4ca7-a5bd-4f07-a4b9-0fbce46832da button.colab-df-convert');\n",
              "        buttonEl.style.display =\n",
              "          google.colab.kernel.accessAllowed ? 'block' : 'none';\n",
              "\n",
              "        async function convertToInteractive(key) {\n",
              "          const element = document.querySelector('#df-8c0f4ca7-a5bd-4f07-a4b9-0fbce46832da');\n",
              "          const dataTable =\n",
              "            await google.colab.kernel.invokeFunction('convertToInteractive',\n",
              "                                                     [key], {});\n",
              "          if (!dataTable) return;\n",
              "\n",
              "          const docLinkHtml = 'Like what you see? Visit the ' +\n",
              "            '<a target=\"_blank\" href=https://colab.research.google.com/notebooks/data_table.ipynb>data table notebook</a>'\n",
              "            + ' to learn more about interactive tables.';\n",
              "          element.innerHTML = '';\n",
              "          dataTable['output_type'] = 'display_data';\n",
              "          await google.colab.output.renderOutput(dataTable, element);\n",
              "          const docLink = document.createElement('div');\n",
              "          docLink.innerHTML = docLinkHtml;\n",
              "          element.appendChild(docLink);\n",
              "        }\n",
              "      </script>\n",
              "    </div>\n",
              "  </div>\n",
              "  "
            ]
          },
          "metadata": {},
          "execution_count": 69
        }
      ]
    },
    {
      "cell_type": "code",
      "source": [
        "plt.figure(figsize=(12,6))\n",
        "sns.heatmap(APD_Train_df.corr(),cmap='Greens',annot=True)\n",
        "plt.show()"
      ],
      "metadata": {
        "colab": {
          "base_uri": "https://localhost:8080/",
          "height": 434
        },
        "id": "bVBYO_HWP-or",
        "outputId": "496ed7e4-c66f-4b8d-838e-5635dc07ec3c"
      },
      "execution_count": null,
      "outputs": [
        {
          "output_type": "display_data",
          "data": {
            "text/plain": [
              "<Figure size 864x432 with 2 Axes>"
            ],
            "image/png": "[encoded data removed]"
          },
          "metadata": {
            "needs_background": "light"
          }
        }
      ]
    },
    {
      "cell_type": "code",
      "source": [
        "plt.figure(figsize=(15,15))\n",
        "plt.title(\"Avgerage Price of Avocado by Region\")\n",
        "sns.barplot(x=\"AveragePrice\",y=\"region\",data=APD_Train_df)\n",
        "plt.show()"
      ],
      "metadata": {
        "colab": {
          "base_uri": "https://localhost:8080/",
          "height": 893
        },
        "id": "IbhUIRjVVYYu",
        "outputId": "d0a2e5f8-43d8-4ca2-ea62-564161d1e655"
      },
      "execution_count": null,
      "outputs": [
        {
          "output_type": "display_data",
          "data": {
            "text/plain": [
              "<Figure size 1080x1080 with 1 Axes>"
            ],
            "image/png": "[encoded data removed]"
          },
          "metadata": {
            "needs_background": "light"
          }
        }
      ]
    },
    {
      "cell_type": "code",
      "source": [
        "plt.figure(figsize=(5,7))\n",
        "plt.title(\"Avg.Price of Avocados by Type\")\n",
        "sns.barplot(x=\"type\",y=\"AveragePrice\",data= APD_Train_df)\n",
        "plt.show()"
      ],
      "metadata": {
        "colab": {
          "base_uri": "https://localhost:8080/",
          "height": 458
        },
        "id": "DFAzbndBWZ-U",
        "outputId": "99a97222-01de-4148-ac17-c9b07cb967d2"
      },
      "execution_count": null,
      "outputs": [
        {
          "output_type": "display_data",
          "data": {
            "text/plain": [
              "<Figure size 360x504 with 1 Axes>"
            ],
            "image/png": "[encoded data removed]"
          },
          "metadata": {
            "needs_background": "light"
          }
        }
      ]
    },
    {
      "cell_type": "markdown",
      "source": [
        "# Feature Engineering"
      ],
      "metadata": {
        "id": "yNPPcdUQcrfn"
      }
    },
    {
      "cell_type": "code",
      "source": [
        "# Drop Date Column from Train & Test DF\n",
        "APD_Train_df.drop(['Date'], axis=1,inplace=True)\n",
        "APD_Test_df.drop(['Date'], axis=1,inplace=True)"
      ],
      "metadata": {
        "id": "VCBoC0axcuxy"
      },
      "execution_count": null,
      "outputs": []
    },
    {
      "cell_type": "code",
      "source": [
        "APD_Train_df.info()"
      ],
      "metadata": {
        "colab": {
          "base_uri": "https://localhost:8080/"
        },
        "id": "WzZXiyT_enAW",
        "outputId": "2a0ee186-3e6b-4f10-e2f3-2a5965806844"
      },
      "execution_count": null,
      "outputs": [
        {
          "output_type": "stream",
          "name": "stdout",
          "text": [
            "<class 'pandas.core.frame.DataFrame'>\n",
            "RangeIndex: 14599 entries, 0 to 14598\n",
            "Data columns (total 12 columns):\n",
            " #   Column        Non-Null Count  Dtype  \n",
            "---  ------        --------------  -----  \n",
            " 0   AveragePrice  14599 non-null  float64\n",
            " 1   Total Volume  14599 non-null  float64\n",
            " 2   4046          14599 non-null  float64\n",
            " 3   4225          14599 non-null  float64\n",
            " 4   4770          14599 non-null  float64\n",
            " 5   Total Bags    14599 non-null  float64\n",
            " 6   Small Bags    14599 non-null  float64\n",
            " 7   Large Bags    14599 non-null  float64\n",
            " 8   XLarge Bags   14599 non-null  float64\n",
            " 9   type          14599 non-null  object \n",
            " 10  year          14599 non-null  int64  \n",
            " 11  region        14599 non-null  object \n",
            "dtypes: float64(9), int64(1), object(2)\n",
            "memory usage: 1.3+ MB\n"
          ]
        }
      ]
    },
    {
      "cell_type": "markdown",
      "source": [
        "#7. Model & Result"
      ],
      "metadata": {
        "id": "ViB-84S-W7FL"
      }
    },
    {
      "cell_type": "code",
      "source": [
        "\n",
        "from sklearn.model_selection import train_test_split, cross_val_score, GridSearchCV\n",
        "# from sklearn.feature_selection import SelectFromModel, SelectPercentile\n",
        "# from sklearn.metrics import f1_score, confusion_matrix\n",
        "\n",
        "# from sklearn.linear_model import LogisticRegression, RidgeClassifier, SGDClassifier\n",
        "# from sklearn.svm import LinearSVC\n",
        "# from sklearn.tree import DecisionTreeClassifier\n",
        "# from sklearn.ensemble import RandomForestClassifier, GradientBoostingClassifier, AdaBoostClassifier\n",
        "# from sklearn.neighbors import KNeighborsClassifier\n",
        "# from sklearn.neural_network import MLPClassifier\n",
        "# from sklearn.naive_bayes import GaussianNB"
      ],
      "metadata": {
        "id": "61lx7jxJXWzU"
      },
      "execution_count": null,
      "outputs": []
    },
    {
      "cell_type": "code",
      "source": [
        "#Train Test Split for Train Data\n",
        "X = APD_Train_df.drop(['AveragePrice'], axis=1)\n",
        "Y = APD_Train_df['AveragePrice']\n",
        "\n",
        "\n",
        "X_train, X_test, y_train, y_test = train_test_split(X, Y, test_size=0.20)\n",
        "X_train.shape, y_train.shape, X_test.shape, y_test.shape"
      ],
      "metadata": {
        "colab": {
          "base_uri": "https://localhost:8080/"
        },
        "id": "4wnLvaZhW6l0",
        "outputId": "b4aaa374-fdcc-4288-b654-ca07e69c138b"
      },
      "execution_count": null,
      "outputs": [
        {
          "output_type": "execute_result",
          "data": {
            "text/plain": [
              "((11679, 11), (11679,), (2920, 11), (2920,))"
            ]
          },
          "metadata": {},
          "execution_count": 125
        }
      ]
    },
    {
      "cell_type": "code",
      "source": [
        "#Train  Cont and Cat split\n",
        "X_train_cat = X_train.select_dtypes(include=['object'])\n",
        "X_train_cont = X_train.select_dtypes(exclude=['object'])\n",
        "\n",
        "# Test Cont and Cat split\n",
        "X_test_cat = X_test.select_dtypes(include=['object'])\n",
        "X_test_cont = X_test.select_dtypes(exclude=['object'])\n",
        "\n",
        "# Perform on Test_data\n",
        "APD_Test_df_cat = APD_Test_df.select_dtypes(include=['object'])\n",
        "APD_Test_df_cont =APD_Test_df.select_dtypes(exclude=['object'])"
      ],
      "metadata": {
        "id": "R_jsJ1D3YShj"
      },
      "execution_count": null,
      "outputs": []
    },
    {
      "cell_type": "code",
      "source": [
        "APD_Test_df_cont.columns"
      ],
      "metadata": {
        "colab": {
          "base_uri": "https://localhost:8080/"
        },
        "id": "ISfqzJ8AZDGi",
        "outputId": "5d6c92ba-29e3-459b-a6e6-235f9a4b0363"
      },
      "execution_count": null,
      "outputs": [
        {
          "output_type": "execute_result",
          "data": {
            "text/plain": [
              "Index(['Total Volume', '4046', '4225', '4770', 'Total Bags', 'Small Bags',\n",
              "       'Large Bags', 'XLarge Bags', 'year'],\n",
              "      dtype='object')"
            ]
          },
          "metadata": {},
          "execution_count": 127
        }
      ]
    },
    {
      "cell_type": "code",
      "source": [
        "# Encoding for Train data set\n",
        "from sklearn.preprocessing import OneHotEncoder,LabelEncoder, StandardScaler, MinMaxScaler\n",
        "enc = OneHotEncoder(drop='first', sparse = False)\n",
        "enc.fit(X_train_cat)\n",
        "enc.categories_"
      ],
      "metadata": {
        "colab": {
          "base_uri": "https://localhost:8080/"
        },
        "id": "HPJCWjeYZfU6",
        "outputId": "0c16731c-42af-46b0-cfb4-e2d9d70e25dd"
      },
      "execution_count": null,
      "outputs": [
        {
          "output_type": "execute_result",
          "data": {
            "text/plain": [
              "[array(['conventional', 'organic'], dtype=object),\n",
              " array(['Albany', 'Atlanta', 'BaltimoreWashington', 'Boise', 'Boston',\n",
              "        'BuffaloRochester', 'California', 'Charlotte', 'Chicago',\n",
              "        'CincinnatiDayton', 'Columbus', 'DallasFtWorth', 'Denver',\n",
              "        'Detroit', 'GrandRapids', 'GreatLakes', 'HarrisburgScranton',\n",
              "        'HartfordSpringfield', 'Houston', 'Indianapolis', 'Jacksonville',\n",
              "        'LasVegas', 'LosAngeles', 'Louisville', 'MiamiFtLauderdale',\n",
              "        'Midsouth', 'Nashville', 'NewOrleansMobile', 'NewYork',\n",
              "        'Northeast', 'NorthernNewEngland', 'Orlando', 'Philadelphia',\n",
              "        'PhoenixTucson', 'Pittsburgh', 'Plains', 'Portland',\n",
              "        'RaleighGreensboro', 'RichmondNorfolk', 'Roanoke', 'Sacramento',\n",
              "        'SanDiego', 'SanFrancisco', 'Seattle', 'SouthCarolina',\n",
              "        'SouthCentral', 'Southeast', 'Spokane', 'StLouis', 'Syracuse',\n",
              "        'Tampa', 'TotalUS', 'West', 'WestTexNewMexico'], dtype=object)]"
            ]
          },
          "metadata": {},
          "execution_count": 128
        }
      ]
    },
    {
      "cell_type": "code",
      "source": [
        "# Encoding for Test data set \n",
        "enc1 = OneHotEncoder(drop='first', sparse = False)\n",
        "enc1.fit(APD_Test_df_cat) # Performed on test_data\n",
        "enc1.categories_"
      ],
      "metadata": {
        "colab": {
          "base_uri": "https://localhost:8080/"
        },
        "id": "1L0oCblQZwP1",
        "outputId": "5be8b065-9c8e-4a2e-fd03-72c14e1b6f4f"
      },
      "execution_count": null,
      "outputs": [
        {
          "output_type": "execute_result",
          "data": {
            "text/plain": [
              "[array(['conventional', 'organic'], dtype=object),\n",
              " array(['Albany', 'Atlanta', 'BaltimoreWashington', 'Boise', 'Boston',\n",
              "        'BuffaloRochester', 'California', 'Charlotte', 'Chicago',\n",
              "        'CincinnatiDayton', 'Columbus', 'DallasFtWorth', 'Denver',\n",
              "        'Detroit', 'GrandRapids', 'GreatLakes', 'HarrisburgScranton',\n",
              "        'HartfordSpringfield', 'Houston', 'Indianapolis', 'Jacksonville',\n",
              "        'LasVegas', 'LosAngeles', 'Louisville', 'MiamiFtLauderdale',\n",
              "        'Midsouth', 'Nashville', 'NewOrleansMobile', 'NewYork',\n",
              "        'Northeast', 'NorthernNewEngland', 'Orlando', 'Philadelphia',\n",
              "        'PhoenixTucson', 'Pittsburgh', 'Plains', 'Portland',\n",
              "        'RaleighGreensboro', 'RichmondNorfolk', 'Roanoke', 'Sacramento',\n",
              "        'SanDiego', 'SanFrancisco', 'Seattle', 'SouthCarolina',\n",
              "        'SouthCentral', 'Southeast', 'Spokane', 'StLouis', 'Syracuse',\n",
              "        'Tampa', 'TotalUS', 'West', 'WestTexNewMexico'], dtype=object)]"
            ]
          },
          "metadata": {},
          "execution_count": 129
        }
      ]
    },
    {
      "cell_type": "code",
      "source": [
        "# Transformation For Train data ( Split to Train & Test)\n",
        "X_train_OHE = pd.DataFrame(enc.transform(X_train_cat), columns = enc.get_feature_names_out(X_train_cat.columns), index = X_train_cat.index)\n",
        "X_test_OHE = pd.DataFrame(enc.transform(X_test_cat), columns = enc.get_feature_names_out(X_test_cat.columns), index = X_test_cat.index)"
      ],
      "metadata": {
        "id": "5H1HGghRZtBM"
      },
      "execution_count": null,
      "outputs": []
    },
    {
      "cell_type": "code",
      "source": [
        "# Transformation For Test Dataset\n",
        "APD_Test_df_OHE = pd.DataFrame(enc.transform(APD_Test_df_cat), columns = enc.get_feature_names_out(APD_Test_df_cat.columns), index =APD_Test_df_cat.index)"
      ],
      "metadata": {
        "id": "-HGeeYKkaMxC"
      },
      "execution_count": null,
      "outputs": []
    },
    {
      "cell_type": "code",
      "source": [
        "APD_Test_df_OHE.shape"
      ],
      "metadata": {
        "colab": {
          "base_uri": "https://localhost:8080/"
        },
        "id": "FmEt1NHJbU1z",
        "outputId": "8cd15dc3-e5d8-4b43-8585-75e61187626a"
      },
      "execution_count": null,
      "outputs": [
        {
          "output_type": "execute_result",
          "data": {
            "text/plain": [
              "(3650, 54)"
            ]
          },
          "metadata": {},
          "execution_count": 132
        }
      ]
    },
    {
      "cell_type": "code",
      "source": [
        "# Scaling of Train Data Set\n",
        "\n",
        "from sklearn.preprocessing import StandardScaler\n",
        "scaler = StandardScaler()\n",
        "scaler.fit(X_train_cont)"
      ],
      "metadata": {
        "colab": {
          "base_uri": "https://localhost:8080/"
        },
        "id": "9Q4FQPDiaMg7",
        "outputId": "c405af28-b122-494b-93cf-fa25c0c50972"
      },
      "execution_count": null,
      "outputs": [
        {
          "output_type": "execute_result",
          "data": {
            "text/plain": [
              "StandardScaler()"
            ]
          },
          "metadata": {},
          "execution_count": 133
        }
      ]
    },
    {
      "cell_type": "code",
      "source": [
        "# Object created for Test Data Set\n",
        "scaler1 = StandardScaler()"
      ],
      "metadata": {
        "id": "Qx7_Jn_Qe9bs"
      },
      "execution_count": null,
      "outputs": []
    },
    {
      "cell_type": "code",
      "source": [
        "#For Train dataset ( Which is split in Train & Test)\n",
        "X_train_s = pd.DataFrame(scaler.transform(X_train_cont), columns = X_train_cont.columns, index = X_train_cont.index)\n",
        "X_test_s = pd.DataFrame(scaler.transform(X_test_cont), columns = X_train_cont.columns, index = X_test_cont.index)"
      ],
      "metadata": {
        "id": "XCyg4-HhfFne"
      },
      "execution_count": null,
      "outputs": []
    },
    {
      "cell_type": "code",
      "source": [
        "#For Test dataset\n",
        "scaler1.fit(APD_Test_df_cont) \n",
        "Hotel_Test_df_s = pd.DataFrame(scaler1.transform(APD_Test_df_cont), columns = APD_Test_df_cont.columns, index = APD_Test_df_cont.index)"
      ],
      "metadata": {
        "id": "Ho2KqDk5fQ10"
      },
      "execution_count": null,
      "outputs": []
    },
    {
      "cell_type": "markdown",
      "source": [
        "##Concatenet"
      ],
      "metadata": {
        "id": "UVd8VeJJfgZU"
      }
    },
    {
      "cell_type": "code",
      "source": [
        "# Train DataSet\n",
        "X_train_comb = pd.concat([X_train_OHE,X_train_s], axis=1)\n",
        "X_test_comb = pd.concat([X_test_OHE,X_test_s], axis=1)"
      ],
      "metadata": {
        "id": "C-R8B5fffjkN"
      },
      "execution_count": null,
      "outputs": []
    },
    {
      "cell_type": "code",
      "source": [
        "# Test DataSet\n",
        "APD_Test_df_comb = pd.concat([APD_Test_df_OHE,Hotel_Test_df_s], axis=1)\n",
        "APD_Test_df_comb.shape"
      ],
      "metadata": {
        "colab": {
          "base_uri": "https://localhost:8080/"
        },
        "id": "JivfTzxwfpad",
        "outputId": "b6153954-9bf8-47d6-ce15-731634059632"
      },
      "execution_count": null,
      "outputs": [
        {
          "output_type": "execute_result",
          "data": {
            "text/plain": [
              "(3650, 63)"
            ]
          },
          "metadata": {},
          "execution_count": 138
        }
      ]
    },
    {
      "cell_type": "code",
      "source": [
        "# Linear Regression on Train Data\n",
        "from sklearn.linear_model import LinearRegression\n",
        "lr=LinearRegression()\n",
        "lr.fit(X_train_comb,y_train)\n",
        "pred=lr.predict(X_test_comb)"
      ],
      "metadata": {
        "id": "E24OEOwKgACb"
      },
      "execution_count": null,
      "outputs": []
    },
    {
      "cell_type": "code",
      "source": [
        "# Linear Regression Model Evaluation\n",
        "from sklearn import metrics\n",
        "print('MAE:', metrics.mean_absolute_error(y_test, pred))\n",
        "print('MSE:', metrics.mean_squared_error(y_test, pred))\n",
        "print('RMSE:', np.sqrt(metrics.mean_squared_error(y_test, pred)))"
      ],
      "metadata": {
        "colab": {
          "base_uri": "https://localhost:8080/"
        },
        "id": "aYlVEsyqgPCc",
        "outputId": "6eea8afb-e68a-4b2f-aefb-defbc8c88601"
      },
      "execution_count": null,
      "outputs": [
        {
          "output_type": "stream",
          "name": "stdout",
          "text": [
            "MAE: 0.19689763069877161\n",
            "MSE: 0.0691860140002207\n",
            "RMSE: 0.26303234401917325\n"
          ]
        }
      ]
    },
    {
      "cell_type": "code",
      "source": [
        "plt.scatter(x=y_test,y=pred)\n",
        "plt.show()"
      ],
      "metadata": {
        "colab": {
          "base_uri": "https://localhost:8080/",
          "height": 265
        },
        "id": "QFJCynrCgcxt",
        "outputId": "432b565c-aeaa-4ec8-9d1c-4fee38fdf9b6"
      },
      "execution_count": null,
      "outputs": [
        {
          "output_type": "display_data",
          "data": {
            "text/plain": [
              "<Figure size 432x288 with 1 Axes>"
            ],
            "image/png": "[encoded data removed]"
          },
          "metadata": {
            "needs_background": "light"
          }
        }
      ]
    },
    {
      "cell_type": "code",
      "source": [
        "#  Decision tree Regressor\n",
        "from sklearn.tree import DecisionTreeRegressor\n",
        "dtr=DecisionTreeRegressor()\n",
        "dtr.fit(X_train_comb,y_train)\n",
        "pred=dtr.predict(X_test_comb)"
      ],
      "metadata": {
        "id": "w0FFhYSXgYw0"
      },
      "execution_count": null,
      "outputs": []
    },
    {
      "cell_type": "code",
      "source": [
        "plt.scatter(x=y_test,y=pred)\n",
        "plt.xlabel('Y Test')\n",
        "plt.ylabel('Predicted Y')\n",
        "plt.show()"
      ],
      "metadata": {
        "colab": {
          "base_uri": "https://localhost:8080/",
          "height": 279
        },
        "id": "aYFAfjV_gwV7",
        "outputId": "0ff30f6a-6688-44eb-afd0-d4f4be3c9706"
      },
      "execution_count": null,
      "outputs": [
        {
          "output_type": "display_data",
          "data": {
            "text/plain": [
              "<Figure size 432x288 with 1 Axes>"
            ],
            "image/png": "[encoded data removed]"
          },
          "metadata": {
            "needs_background": "light"
          }
        }
      ]
    },
    {
      "cell_type": "code",
      "source": [
        "print('MAE:', metrics.mean_absolute_error(y_test, pred))\n",
        "print('MSE:', metrics.mean_squared_error(y_test, pred))\n",
        "print('RMSE:', np.sqrt(metrics.mean_squared_error(y_test, pred)))"
      ],
      "metadata": {
        "colab": {
          "base_uri": "https://localhost:8080/"
        },
        "id": "c5aXRPb3g3cz",
        "outputId": "f8f9d963-e278-4460-d11a-47d8fa93bc5b"
      },
      "execution_count": null,
      "outputs": [
        {
          "output_type": "stream",
          "name": "stdout",
          "text": [
            "MAE: 0.1480821917808219\n",
            "MSE: 0.051081232876712325\n",
            "RMSE: 0.22601157686435516\n"
          ]
        }
      ]
    },
    {
      "cell_type": "code",
      "source": [
        "# Random Forest Regressor\n",
        "from sklearn.ensemble import RandomForestRegressor\n",
        "rdr = RandomForestRegressor(n_estimators=200)\n",
        "rdr.fit(X_train_comb,y_train)\n",
        "pred=rdr.predict(X_test_comb)"
      ],
      "metadata": {
        "id": "3nozuff8vYq-"
      },
      "execution_count": null,
      "outputs": []
    },
    {
      "cell_type": "code",
      "source": [
        "plt.scatter(x=y_test,y=pred)\n",
        "plt.xlabel('Y Test')\n",
        "plt.ylabel('Predicted Y')\n",
        "plt.show()"
      ],
      "metadata": {
        "colab": {
          "base_uri": "https://localhost:8080/",
          "height": 279
        },
        "id": "QZMb8HmEv7q-",
        "outputId": "d0ad4987-a5f3-419d-f8b1-d11caf1be7be"
      },
      "execution_count": null,
      "outputs": [
        {
          "output_type": "display_data",
          "data": {
            "text/plain": [
              "<Figure size 432x288 with 1 Axes>"
            ],
            "image/png": "[encoded data removed]"
          },
          "metadata": {
            "needs_background": "light"
          }
        }
      ]
    },
    {
      "cell_type": "code",
      "source": [
        "print('MAE:', metrics.mean_absolute_error(y_test, pred))\n",
        "print('MSE:', metrics.mean_squared_error(y_test, pred))\n",
        "print('RMSE:', np.sqrt(metrics.mean_squared_error(y_test, pred)))"
      ],
      "metadata": {
        "colab": {
          "base_uri": "https://localhost:8080/"
        },
        "id": "SzVoPA4Lvyow",
        "outputId": "51d436f3-a9be-4375-e811-22ce2770f135"
      },
      "execution_count": null,
      "outputs": [
        {
          "output_type": "stream",
          "name": "stdout",
          "text": [
            "MAE: 0.10966616438356165\n",
            "MSE: 0.024010914251712326\n",
            "RMSE: 0.15495455544033654\n"
          ]
        }
      ]
    },
    {
      "cell_type": "code",
      "source": [
        "sns.distplot((y_test-pred),bins=50)\n",
        "plt.show()"
      ],
      "metadata": {
        "colab": {
          "base_uri": "https://localhost:8080/",
          "height": 279
        },
        "id": "h7kTG9XOwNfW",
        "outputId": "d5848121-2742-4b3a-ff5a-ae523ce4f970"
      },
      "execution_count": null,
      "outputs": [
        {
          "output_type": "display_data",
          "data": {
            "text/plain": [
              "<Figure size 432x288 with 1 Axes>"
            ],
            "image/png": "[encoded data removed]"
          },
          "metadata": {
            "needs_background": "light"
          }
        }
      ]
    },
    {
      "cell_type": "code",
      "source": [
        "data = pd.DataFrame({'Y Test':y_test , 'Pred':pred},columns=['Y Test','Pred'])\n",
        "sns.lmplot(x='Y Test',y='Pred',data=data,palette='rainbow')\n",
        "data.head()"
      ],
      "metadata": {
        "colab": {
          "base_uri": "https://localhost:8080/",
          "height": 558
        },
        "id": "a8BsQDSHwqPZ",
        "outputId": "67496445-4c0e-4bb2-e9db-a3717f09a239"
      },
      "execution_count": null,
      "outputs": [
        {
          "output_type": "execute_result",
          "data": {
            "text/plain": [
              "       Y Test     Pred\n",
              "8841     2.07  1.91545\n",
              "4866     1.55  1.49810\n",
              "10992    1.18  1.40595\n",
              "5932     1.93  2.08410\n",
              "14202    1.60  1.49820"
            ],
            "text/html": [
              "\n",
              "  <div id=\"df-35eae386-6fba-44f9-a3fe-645af332c46c\">\n",
              "    <div class=\"colab-df-container\">\n",
              "      <div>\n",
              "<style scoped>\n",
              "    .dataframe tbody tr th:only-of-type {\n",
              "        vertical-align: middle;\n",
              "    }\n",
              "\n",
              "    .dataframe tbody tr th {\n",
              "        vertical-align: top;\n",
              "    }\n",
              "\n",
              "    .dataframe thead th {\n",
              "        text-align: right;\n",
              "    }\n",
              "</style>\n",
              "<table border=\"1\" class=\"dataframe\">\n",
              "  <thead>\n",
              "    <tr style=\"text-align: right;\">\n",
              "      <th></th>\n",
              "      <th>Y Test</th>\n",
              "      <th>Pred</th>\n",
              "    </tr>\n",
              "  </thead>\n",
              "  <tbody>\n",
              "    <tr>\n",
              "      <th>8841</th>\n",
              "      <td>2.07</td>\n",
              "      <td>1.91545</td>\n",
              "    </tr>\n",
              "    <tr>\n",
              "      <th>4866</th>\n",
              "      <td>1.55</td>\n",
              "      <td>1.49810</td>\n",
              "    </tr>\n",
              "    <tr>\n",
              "      <th>10992</th>\n",
              "      <td>1.18</td>\n",
              "      <td>1.40595</td>\n",
              "    </tr>\n",
              "    <tr>\n",
              "      <th>5932</th>\n",
              "      <td>1.93</td>\n",
              "      <td>2.08410</td>\n",
              "    </tr>\n",
              "    <tr>\n",
              "      <th>14202</th>\n",
              "      <td>1.60</td>\n",
              "      <td>1.49820</td>\n",
              "    </tr>\n",
              "  </tbody>\n",
              "</table>\n",
              "</div>\n",
              "      <button class=\"colab-df-convert\" onclick=\"convertToInteractive('df-35eae386-6fba-44f9-a3fe-645af332c46c')\"\n",
              "              title=\"Convert this dataframe to an interactive table.\"\n",
              "              style=\"display:none;\">\n",
              "        \n",
              "  <svg xmlns=\"http://www.w3.org/2000/svg\" height=\"24px\"viewBox=\"0 0 24 24\"\n",
              "       width=\"24px\">\n",
              "    <path d=\"M0 0h24v24H0V0z\" fill=\"none\"/>\n",
              "    <path d=\"M18.56 5.44l.94 2.06.94-2.06 2.06-.94-2.06-.94-.94-2.06-.94 2.06-2.06.94zm-11 1L8.5 8.5l.94-2.06 2.06-.94-2.06-.94L8.5 2.5l-.94 2.06-2.06.94zm10 10l.94 2.06.94-2.06 2.06-.94-2.06-.94-.94-2.06-.94 2.06-2.06.94z\"/><path d=\"M17.41 7.96l-1.37-1.37c-.4-.4-.92-.59-1.43-.59-.52 0-1.04.2-1.43.59L10.3 9.45l-7.72 7.72c-.78.78-.78 2.05 0 2.83L4 21.41c.39.39.9.59 1.41.59.51 0 1.02-.2 1.41-.59l7.78-7.78 2.81-2.81c.8-.78.8-2.07 0-2.86zM5.41 20L4 18.59l7.72-7.72 1.47 1.35L5.41 20z\"/>\n",
              "  </svg>\n",
              "      </button>\n",
              "      \n",
              "  <style>\n",
              "    .colab-df-container {\n",
              "      display:flex;\n",
              "      flex-wrap:wrap;\n",
              "      gap: 12px;\n",
              "    }\n",
              "\n",
              "    .colab-df-convert {\n",
              "      background-color: #E8F0FE;\n",
              "      border: none;\n",
              "      border-radius: 50%;\n",
              "      cursor: pointer;\n",
              "      display: none;\n",
              "      fill: #1967D2;\n",
              "      height: 32px;\n",
              "      padding: 0 0 0 0;\n",
              "      width: 32px;\n",
              "    }\n",
              "\n",
              "    .colab-df-convert:hover {\n",
              "      background-color: #E2EBFA;\n",
              "      box-shadow: 0px 1px 2px rgba(60, 64, 67, 0.3), 0px 1px 3px 1px rgba(60, 64, 67, 0.15);\n",
              "      fill: #174EA6;\n",
              "    }\n",
              "\n",
              "    [theme=dark] .colab-df-convert {\n",
              "      background-color: #3B4455;\n",
              "      fill: #D2E3FC;\n",
              "    }\n",
              "\n",
              "    [theme=dark] .colab-df-convert:hover {\n",
              "      background-color: #434B5C;\n",
              "      box-shadow: 0px 1px 3px 1px rgba(0, 0, 0, 0.15);\n",
              "      filter: drop-shadow(0px 1px 2px rgba(0, 0, 0, 0.3));\n",
              "      fill: #FFFFFF;\n",
              "    }\n",
              "  </style>\n",
              "\n",
              "      <script>\n",
              "        const buttonEl =\n",
              "          document.querySelector('#df-35eae386-6fba-44f9-a3fe-645af332c46c button.colab-df-convert');\n",
              "        buttonEl.style.display =\n",
              "          google.colab.kernel.accessAllowed ? 'block' : 'none';\n",
              "\n",
              "        async function convertToInteractive(key) {\n",
              "          const element = document.querySelector('#df-35eae386-6fba-44f9-a3fe-645af332c46c');\n",
              "          const dataTable =\n",
              "            await google.colab.kernel.invokeFunction('convertToInteractive',\n",
              "                                                     [key], {});\n",
              "          if (!dataTable) return;\n",
              "\n",
              "          const docLinkHtml = 'Like what you see? Visit the ' +\n",
              "            '<a target=\"_blank\" href=https://colab.research.google.com/notebooks/data_table.ipynb>data table notebook</a>'\n",
              "            + ' to learn more about interactive tables.';\n",
              "          element.innerHTML = '';\n",
              "          dataTable['output_type'] = 'display_data';\n",
              "          await google.colab.output.renderOutput(dataTable, element);\n",
              "          const docLink = document.createElement('div');\n",
              "          docLink.innerHTML = docLinkHtml;\n",
              "          element.appendChild(docLink);\n",
              "        }\n",
              "      </script>\n",
              "    </div>\n",
              "  </div>\n",
              "  "
            ]
          },
          "metadata": {},
          "execution_count": 151
        },
        {
          "output_type": "display_data",
          "data": {
            "text/plain": [
              "<Figure size 360x360 with 1 Axes>"
            ],
            "image/png": "[encoded data removed]"
          },
          "metadata": {
            "needs_background": "light"
          }
        }
      ]
    },
    {
      "cell_type": "markdown",
      "source": [
        "# Model Application"
      ],
      "metadata": {
        "id": "BUv3QpYpxMOo"
      }
    },
    {
      "cell_type": "code",
      "source": [
        "# Perform Random Forest Regressor on Test Data\n",
        "RF_pred = rdr.predict(APD_Test_df_comb)"
      ],
      "metadata": {
        "id": "vrLpKJrXwwA4"
      },
      "execution_count": null,
      "outputs": []
    },
    {
      "cell_type": "code",
      "source": [
        "RF_pred"
      ],
      "metadata": {
        "colab": {
          "base_uri": "https://localhost:8080/"
        },
        "id": "fSB-RTdXxoiW",
        "outputId": "bc63c6ea-c7f4-4a46-9747-93629213128b"
      },
      "execution_count": null,
      "outputs": [
        {
          "output_type": "execute_result",
          "data": {
            "text/plain": [
              "array([1.5285 , 1.5186 , 1.2691 , ..., 1.22145, 1.5042 , 1.2896 ])"
            ]
          },
          "metadata": {},
          "execution_count": 153
        }
      ]
    },
    {
      "cell_type": "code",
      "source": [
        "APD_Test_df =APD_Test_df.drop(APD_Test_df.iloc[:,1:],axis = 1)\n",
        "APD_Test_df['\tAveragePrice '] = RF_pred"
      ],
      "metadata": {
        "id": "2qzxBYUay7uO"
      },
      "execution_count": null,
      "outputs": []
    },
    {
      "cell_type": "code",
      "source": [
        "APD_Test_df.to_csv('Submission.csv', index = False, header=False )\n",
        "Submission_df = pd.read_csv(\"/content/Submission.csv\")"
      ],
      "metadata": {
        "id": "pZm916Xfxtog"
      },
      "execution_count": null,
      "outputs": []
    },
    {
      "cell_type": "code",
      "source": [
        "Submission_df.head()"
      ],
      "metadata": {
        "colab": {
          "base_uri": "https://localhost:8080/",
          "height": 206
        },
        "id": "amBQ0HyjyekG",
        "outputId": "e5d1d18f-74d1-42dd-c25d-aeec5522f525"
      },
      "execution_count": null,
      "outputs": [
        {
          "output_type": "execute_result",
          "data": {
            "text/plain": [
              "     12425.42  1.5285000000000009\n",
              "0    11837.20             1.51860\n",
              "1  4250394.01             1.26910\n",
              "2    74951.66             1.44025\n",
              "3     4594.71             1.68395\n",
              "4  4022549.75             1.22380"
            ],
            "text/html": [
              "\n",
              "  <div id=\"df-51a92b4a-0713-4c5a-9da0-2c297a674895\">\n",
              "    <div class=\"colab-df-container\">\n",
              "      <div>\n",
              "<style scoped>\n",
              "    .dataframe tbody tr th:only-of-type {\n",
              "        vertical-align: middle;\n",
              "    }\n",
              "\n",
              "    .dataframe tbody tr th {\n",
              "        vertical-align: top;\n",
              "    }\n",
              "\n",
              "    .dataframe thead th {\n",
              "        text-align: right;\n",
              "    }\n",
              "</style>\n",
              "<table border=\"1\" class=\"dataframe\">\n",
              "  <thead>\n",
              "    <tr style=\"text-align: right;\">\n",
              "      <th></th>\n",
              "      <th>12425.42</th>\n",
              "      <th>1.5285000000000009</th>\n",
              "    </tr>\n",
              "  </thead>\n",
              "  <tbody>\n",
              "    <tr>\n",
              "      <th>0</th>\n",
              "      <td>11837.20</td>\n",
              "      <td>1.51860</td>\n",
              "    </tr>\n",
              "    <tr>\n",
              "      <th>1</th>\n",
              "      <td>4250394.01</td>\n",
              "      <td>1.26910</td>\n",
              "    </tr>\n",
              "    <tr>\n",
              "      <th>2</th>\n",
              "      <td>74951.66</td>\n",
              "      <td>1.44025</td>\n",
              "    </tr>\n",
              "    <tr>\n",
              "      <th>3</th>\n",
              "      <td>4594.71</td>\n",
              "      <td>1.68395</td>\n",
              "    </tr>\n",
              "    <tr>\n",
              "      <th>4</th>\n",
              "      <td>4022549.75</td>\n",
              "      <td>1.22380</td>\n",
              "    </tr>\n",
              "  </tbody>\n",
              "</table>\n",
              "</div>\n",
              "      <button class=\"colab-df-convert\" onclick=\"convertToInteractive('df-51a92b4a-0713-4c5a-9da0-2c297a674895')\"\n",
              "              title=\"Convert this dataframe to an interactive table.\"\n",
              "              style=\"display:none;\">\n",
              "        \n",
              "  <svg xmlns=\"http://www.w3.org/2000/svg\" height=\"24px\"viewBox=\"0 0 24 24\"\n",
              "       width=\"24px\">\n",
              "    <path d=\"M0 0h24v24H0V0z\" fill=\"none\"/>\n",
              "    <path d=\"M18.56 5.44l.94 2.06.94-2.06 2.06-.94-2.06-.94-.94-2.06-.94 2.06-2.06.94zm-11 1L8.5 8.5l.94-2.06 2.06-.94-2.06-.94L8.5 2.5l-.94 2.06-2.06.94zm10 10l.94 2.06.94-2.06 2.06-.94-2.06-.94-.94-2.06-.94 2.06-2.06.94z\"/><path d=\"M17.41 7.96l-1.37-1.37c-.4-.4-.92-.59-1.43-.59-.52 0-1.04.2-1.43.59L10.3 9.45l-7.72 7.72c-.78.78-.78 2.05 0 2.83L4 21.41c.39.39.9.59 1.41.59.51 0 1.02-.2 1.41-.59l7.78-7.78 2.81-2.81c.8-.78.8-2.07 0-2.86zM5.41 20L4 18.59l7.72-7.72 1.47 1.35L5.41 20z\"/>\n",
              "  </svg>\n",
              "      </button>\n",
              "      \n",
              "  <style>\n",
              "    .colab-df-container {\n",
              "      display:flex;\n",
              "      flex-wrap:wrap;\n",
              "      gap: 12px;\n",
              "    }\n",
              "\n",
              "    .colab-df-convert {\n",
              "      background-color: #E8F0FE;\n",
              "      border: none;\n",
              "      border-radius: 50%;\n",
              "      cursor: pointer;\n",
              "      display: none;\n",
              "      fill: #1967D2;\n",
              "      height: 32px;\n",
              "      padding: 0 0 0 0;\n",
              "      width: 32px;\n",
              "    }\n",
              "\n",
              "    .colab-df-convert:hover {\n",
              "      background-color: #E2EBFA;\n",
              "      box-shadow: 0px 1px 2px rgba(60, 64, 67, 0.3), 0px 1px 3px 1px rgba(60, 64, 67, 0.15);\n",
              "      fill: #174EA6;\n",
              "    }\n",
              "\n",
              "    [theme=dark] .colab-df-convert {\n",
              "      background-color: #3B4455;\n",
              "      fill: #D2E3FC;\n",
              "    }\n",
              "\n",
              "    [theme=dark] .colab-df-convert:hover {\n",
              "      background-color: #434B5C;\n",
              "      box-shadow: 0px 1px 3px 1px rgba(0, 0, 0, 0.15);\n",
              "      filter: drop-shadow(0px 1px 2px rgba(0, 0, 0, 0.3));\n",
              "      fill: #FFFFFF;\n",
              "    }\n",
              "  </style>\n",
              "\n",
              "      <script>\n",
              "        const buttonEl =\n",
              "          document.querySelector('#df-51a92b4a-0713-4c5a-9da0-2c297a674895 button.colab-df-convert');\n",
              "        buttonEl.style.display =\n",
              "          google.colab.kernel.accessAllowed ? 'block' : 'none';\n",
              "\n",
              "        async function convertToInteractive(key) {\n",
              "          const element = document.querySelector('#df-51a92b4a-0713-4c5a-9da0-2c297a674895');\n",
              "          const dataTable =\n",
              "            await google.colab.kernel.invokeFunction('convertToInteractive',\n",
              "                                                     [key], {});\n",
              "          if (!dataTable) return;\n",
              "\n",
              "          const docLinkHtml = 'Like what you see? Visit the ' +\n",
              "            '<a target=\"_blank\" href=https://colab.research.google.com/notebooks/data_table.ipynb>data table notebook</a>'\n",
              "            + ' to learn more about interactive tables.';\n",
              "          element.innerHTML = '';\n",
              "          dataTable['output_type'] = 'display_data';\n",
              "          await google.colab.output.renderOutput(dataTable, element);\n",
              "          const docLink = document.createElement('div');\n",
              "          docLink.innerHTML = docLinkHtml;\n",
              "          element.appendChild(docLink);\n",
              "        }\n",
              "      </script>\n",
              "    </div>\n",
              "  </div>\n",
              "  "
            ]
          },
          "metadata": {},
          "execution_count": 156
        }
      ]
    }
  ]
}